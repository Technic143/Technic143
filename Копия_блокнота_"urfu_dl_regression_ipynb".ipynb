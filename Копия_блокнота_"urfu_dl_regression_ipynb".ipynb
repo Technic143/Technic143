{
  "nbformat": 4,
  "nbformat_minor": 0,
  "metadata": {
    "colab": {
      "provenance": [],
      "include_colab_link": true
    },
    "kernelspec": {
      "name": "python3",
      "display_name": "Python 3"
    }
  },
  "cells": [
    {
      "cell_type": "markdown",
      "metadata": {
        "id": "view-in-github",
        "colab_type": "text"
      },
      "source": [
        "<a href=\"https://colab.research.google.com/github/Technic143/Technic143/blob/main/%D0%9A%D0%BE%D0%BF%D0%B8%D1%8F_%D0%B1%D0%BB%D0%BE%D0%BA%D0%BD%D0%BE%D1%82%D0%B0_%22urfu_dl_regression_ipynb%22.ipynb\" target=\"_parent\"><img src=\"https://colab.research.google.com/assets/colab-badge.svg\" alt=\"Open In Colab\"/></a>"
      ]
    },
    {
      "cell_type": "markdown",
      "metadata": {
        "id": "UjfquuN3HkHt"
      },
      "source": [
        "## Решение задачи регрессии с помощью нейронных сетей\n",
        "\n",
        "Определение стоимости недвижимости из набора данных [California Housing Data Set](https://developers.google.com/machine-learning/crash-course/california-housing-data-description).\n",
        "\n",
        "Чтобы запускать и редактировать код, сохраните копию этого ноутбука себе (File->Save a copy in Drive...). Свою копию вы сможете изменять и запускать.\n",
        "\n",
        "Учебный курс \"[Программирование глубоких нейронных сетей на Python](https://openedu.ru/course/urfu/PYDNN/)\"."
      ]
    },
    {
      "cell_type": "code",
      "metadata": {
        "id": "VY9tayQBHh1M"
      },
      "source": [
        "from tensorflow.keras.models import Sequential\n",
        "from tensorflow.keras.layers import Dense\n",
        "import pandas as pd\n",
        "import numpy as np\n",
        "import matplotlib.pyplot as plt\n",
        "%matplotlib inline "
      ],
      "execution_count": null,
      "outputs": []
    },
    {
      "cell_type": "markdown",
      "metadata": {
        "id": "s8hejqycICpn"
      },
      "source": [
        "## Загружаем данные"
      ]
    },
    {
      "cell_type": "markdown",
      "metadata": {
        "id": "s78xf8H8G03s"
      },
      "source": [
        "Просматриваем содержимое каталога с демонстрационными данными Colab"
      ]
    },
    {
      "cell_type": "code",
      "metadata": {
        "id": "aBte_p1uH_NP",
        "outputId": "e3cc80e8-6a56-48dd-dc96-c23553134ec6",
        "colab": {
          "base_uri": "https://localhost:8080/",
          "height": 67
        }
      },
      "source": [
        "!ls sample_data"
      ],
      "execution_count": null,
      "outputs": [
        {
          "output_type": "stream",
          "text": [
            "anscombe.json\t\t      mnist_test.csv\n",
            "california_housing_test.csv   mnist_train_small.csv\n",
            "california_housing_train.csv  README.md\n"
          ],
          "name": "stdout"
        }
      ]
    },
    {
      "cell_type": "markdown",
      "metadata": {
        "id": "kxgTetxpG61J"
      },
      "source": [
        "Загружаем данные для обучения"
      ]
    },
    {
      "cell_type": "code",
      "metadata": {
        "id": "TmRR3ohLG_vG"
      },
      "source": [
        "train = pd.read_csv('sample_data/california_housing_train.csv')"
      ],
      "execution_count": null,
      "outputs": []
    },
    {
      "cell_type": "markdown",
      "metadata": {
        "id": "MaV73VcTIVtf"
      },
      "source": [
        "Загружаем данные для тестирования"
      ]
    },
    {
      "cell_type": "code",
      "metadata": {
        "id": "PaTmvnDKIZKz"
      },
      "source": [
        "test = pd.read_csv('sample_data/california_housing_test.csv')"
      ],
      "execution_count": null,
      "outputs": []
    },
    {
      "cell_type": "markdown",
      "metadata": {
        "id": "q6PgURr6Idor"
      },
      "source": [
        "## Исследуем данные"
      ]
    },
    {
      "cell_type": "markdown",
      "metadata": {
        "id": "TnOrmvP3I1ie"
      },
      "source": [
        "Просматриваем данные для обучения"
      ]
    },
    {
      "cell_type": "code",
      "metadata": {
        "id": "PFsrU1kKHcqy",
        "outputId": "f6136d35-999f-4386-e070-04e1fb53acec",
        "colab": {
          "base_uri": "https://localhost:8080/",
          "height": 195
        }
      },
      "source": [
        "train[:5]"
      ],
      "execution_count": null,
      "outputs": [
        {
          "output_type": "execute_result",
          "data": {
            "text/html": [
              "<div>\n",
              "<style scoped>\n",
              "    .dataframe tbody tr th:only-of-type {\n",
              "        vertical-align: middle;\n",
              "    }\n",
              "\n",
              "    .dataframe tbody tr th {\n",
              "        vertical-align: top;\n",
              "    }\n",
              "\n",
              "    .dataframe thead th {\n",
              "        text-align: right;\n",
              "    }\n",
              "</style>\n",
              "<table border=\"1\" class=\"dataframe\">\n",
              "  <thead>\n",
              "    <tr style=\"text-align: right;\">\n",
              "      <th></th>\n",
              "      <th>longitude</th>\n",
              "      <th>latitude</th>\n",
              "      <th>housing_median_age</th>\n",
              "      <th>total_rooms</th>\n",
              "      <th>total_bedrooms</th>\n",
              "      <th>population</th>\n",
              "      <th>households</th>\n",
              "      <th>median_income</th>\n",
              "      <th>median_house_value</th>\n",
              "    </tr>\n",
              "  </thead>\n",
              "  <tbody>\n",
              "    <tr>\n",
              "      <th>0</th>\n",
              "      <td>-114.31</td>\n",
              "      <td>34.19</td>\n",
              "      <td>15.0</td>\n",
              "      <td>5612.0</td>\n",
              "      <td>1283.0</td>\n",
              "      <td>1015.0</td>\n",
              "      <td>472.0</td>\n",
              "      <td>1.4936</td>\n",
              "      <td>66900.0</td>\n",
              "    </tr>\n",
              "    <tr>\n",
              "      <th>1</th>\n",
              "      <td>-114.47</td>\n",
              "      <td>34.40</td>\n",
              "      <td>19.0</td>\n",
              "      <td>7650.0</td>\n",
              "      <td>1901.0</td>\n",
              "      <td>1129.0</td>\n",
              "      <td>463.0</td>\n",
              "      <td>1.8200</td>\n",
              "      <td>80100.0</td>\n",
              "    </tr>\n",
              "    <tr>\n",
              "      <th>2</th>\n",
              "      <td>-114.56</td>\n",
              "      <td>33.69</td>\n",
              "      <td>17.0</td>\n",
              "      <td>720.0</td>\n",
              "      <td>174.0</td>\n",
              "      <td>333.0</td>\n",
              "      <td>117.0</td>\n",
              "      <td>1.6509</td>\n",
              "      <td>85700.0</td>\n",
              "    </tr>\n",
              "    <tr>\n",
              "      <th>3</th>\n",
              "      <td>-114.57</td>\n",
              "      <td>33.64</td>\n",
              "      <td>14.0</td>\n",
              "      <td>1501.0</td>\n",
              "      <td>337.0</td>\n",
              "      <td>515.0</td>\n",
              "      <td>226.0</td>\n",
              "      <td>3.1917</td>\n",
              "      <td>73400.0</td>\n",
              "    </tr>\n",
              "    <tr>\n",
              "      <th>4</th>\n",
              "      <td>-114.57</td>\n",
              "      <td>33.57</td>\n",
              "      <td>20.0</td>\n",
              "      <td>1454.0</td>\n",
              "      <td>326.0</td>\n",
              "      <td>624.0</td>\n",
              "      <td>262.0</td>\n",
              "      <td>1.9250</td>\n",
              "      <td>65500.0</td>\n",
              "    </tr>\n",
              "  </tbody>\n",
              "</table>\n",
              "</div>"
            ],
            "text/plain": [
              "   longitude  latitude  ...  median_income  median_house_value\n",
              "0    -114.31     34.19  ...         1.4936             66900.0\n",
              "1    -114.47     34.40  ...         1.8200             80100.0\n",
              "2    -114.56     33.69  ...         1.6509             85700.0\n",
              "3    -114.57     33.64  ...         3.1917             73400.0\n",
              "4    -114.57     33.57  ...         1.9250             65500.0\n",
              "\n",
              "[5 rows x 9 columns]"
            ]
          },
          "metadata": {
            "tags": []
          },
          "execution_count": 19
        }
      ]
    },
    {
      "cell_type": "markdown",
      "metadata": {
        "id": "QJht_Q1ZIq3X"
      },
      "source": [
        "**Описание данных**\n",
        "\n",
        "California Housing содержит данные о средней стоимость домов в Калифорнии для квартала. Файл с данными содержит следующие столбцы:\n",
        "\n",
        "*   **longitude** - долгота квартала с недвижимостью.\n",
        "*   **latitude** - широта квартала с недвижимостью.\n",
        "*   **housing_median_age** - медиана возраста домов в квартале.\n",
        "*   **total_rooms** - общее колиичество комнат в квартале.\n",
        "*   **total_bedrooms** - общее количество спален в квартале.\n",
        "*   **population** - население квартала.\n",
        "*   **households** - количество \"домохозяйств\" в квартале (групп людей живущих вместе в одном доме. Как правило это семьи).\n",
        "*   **median_income** - медианный доход в квартале.\n",
        "*   **median_house_value** - медианная стоимость дома в квартале.\n",
        "\n"
      ]
    },
    {
      "cell_type": "markdown",
      "metadata": {
        "id": "fbuFe5HhAxgX"
      },
      "source": [
        "Просматриваем данные для тестирования"
      ]
    },
    {
      "cell_type": "code",
      "metadata": {
        "id": "_595qh0iAz5d",
        "outputId": "b5ee7c17-5ded-4ece-c3b3-7e1e20a4399e",
        "colab": {
          "base_uri": "https://localhost:8080/",
          "height": 195
        }
      },
      "source": [
        "test[:5]"
      ],
      "execution_count": null,
      "outputs": [
        {
          "output_type": "execute_result",
          "data": {
            "text/html": [
              "<div>\n",
              "<style scoped>\n",
              "    .dataframe tbody tr th:only-of-type {\n",
              "        vertical-align: middle;\n",
              "    }\n",
              "\n",
              "    .dataframe tbody tr th {\n",
              "        vertical-align: top;\n",
              "    }\n",
              "\n",
              "    .dataframe thead th {\n",
              "        text-align: right;\n",
              "    }\n",
              "</style>\n",
              "<table border=\"1\" class=\"dataframe\">\n",
              "  <thead>\n",
              "    <tr style=\"text-align: right;\">\n",
              "      <th></th>\n",
              "      <th>longitude</th>\n",
              "      <th>latitude</th>\n",
              "      <th>housing_median_age</th>\n",
              "      <th>total_rooms</th>\n",
              "      <th>total_bedrooms</th>\n",
              "      <th>population</th>\n",
              "      <th>households</th>\n",
              "      <th>median_income</th>\n",
              "      <th>median_house_value</th>\n",
              "    </tr>\n",
              "  </thead>\n",
              "  <tbody>\n",
              "    <tr>\n",
              "      <th>0</th>\n",
              "      <td>-122.05</td>\n",
              "      <td>37.37</td>\n",
              "      <td>27.0</td>\n",
              "      <td>3885.0</td>\n",
              "      <td>661.0</td>\n",
              "      <td>1537.0</td>\n",
              "      <td>606.0</td>\n",
              "      <td>6.6085</td>\n",
              "      <td>344700.0</td>\n",
              "    </tr>\n",
              "    <tr>\n",
              "      <th>1</th>\n",
              "      <td>-118.30</td>\n",
              "      <td>34.26</td>\n",
              "      <td>43.0</td>\n",
              "      <td>1510.0</td>\n",
              "      <td>310.0</td>\n",
              "      <td>809.0</td>\n",
              "      <td>277.0</td>\n",
              "      <td>3.5990</td>\n",
              "      <td>176500.0</td>\n",
              "    </tr>\n",
              "    <tr>\n",
              "      <th>2</th>\n",
              "      <td>-117.81</td>\n",
              "      <td>33.78</td>\n",
              "      <td>27.0</td>\n",
              "      <td>3589.0</td>\n",
              "      <td>507.0</td>\n",
              "      <td>1484.0</td>\n",
              "      <td>495.0</td>\n",
              "      <td>5.7934</td>\n",
              "      <td>270500.0</td>\n",
              "    </tr>\n",
              "    <tr>\n",
              "      <th>3</th>\n",
              "      <td>-118.36</td>\n",
              "      <td>33.82</td>\n",
              "      <td>28.0</td>\n",
              "      <td>67.0</td>\n",
              "      <td>15.0</td>\n",
              "      <td>49.0</td>\n",
              "      <td>11.0</td>\n",
              "      <td>6.1359</td>\n",
              "      <td>330000.0</td>\n",
              "    </tr>\n",
              "    <tr>\n",
              "      <th>4</th>\n",
              "      <td>-119.67</td>\n",
              "      <td>36.33</td>\n",
              "      <td>19.0</td>\n",
              "      <td>1241.0</td>\n",
              "      <td>244.0</td>\n",
              "      <td>850.0</td>\n",
              "      <td>237.0</td>\n",
              "      <td>2.9375</td>\n",
              "      <td>81700.0</td>\n",
              "    </tr>\n",
              "  </tbody>\n",
              "</table>\n",
              "</div>"
            ],
            "text/plain": [
              "   longitude  latitude  ...  median_income  median_house_value\n",
              "0    -122.05     37.37  ...         6.6085            344700.0\n",
              "1    -118.30     34.26  ...         3.5990            176500.0\n",
              "2    -117.81     33.78  ...         5.7934            270500.0\n",
              "3    -118.36     33.82  ...         6.1359            330000.0\n",
              "4    -119.67     36.33  ...         2.9375             81700.0\n",
              "\n",
              "[5 rows x 9 columns]"
            ]
          },
          "metadata": {
            "tags": []
          },
          "execution_count": 20
        }
      ]
    },
    {
      "cell_type": "markdown",
      "metadata": {
        "id": "cALbOq0GA9h8"
      },
      "source": [
        "## Постановка задачи регрессии\n",
        "\n",
        "Необходимо определить медианную стоимость дома в квартале, зная все остальные признаки.\n",
        "\n",
        "**Целевая переменная**: `median_house_value`\n",
        "\n",
        "**Признаки**: `longitude, latitude, housing_median_age, total_rooms, total_bedrooms, population, households,\tmedian_income`\n",
        "\n",
        "Признаки подаются на вход нейронной сети, на выходе сеть должна выдать значение целевой переменной - `median_house_value`"
      ]
    },
    {
      "cell_type": "code",
      "metadata": {
        "id": "8E3aBKGqCU04"
      },
      "source": [
        "features = ['longitude', 'latitude', 'housing_median_age', 'total_rooms', 'total_bedrooms', 'population', 'households', 'median_income']\n",
        "target = 'median_house_value'"
      ],
      "execution_count": null,
      "outputs": []
    },
    {
      "cell_type": "markdown",
      "metadata": {
        "id": "gIpp-lNbBwUt"
      },
      "source": [
        "## Подготовка данных для обучения\n",
        "\n",
        "Делим набор данных на признаки и правильные ответы"
      ]
    },
    {
      "cell_type": "code",
      "metadata": {
        "id": "YCf9T98dB0FS"
      },
      "source": [
        "# Выделяем данные для обучения и преобразуем их в массивы numpy\n",
        "x_train = train[features].values\n",
        "x_test = test[features].values"
      ],
      "execution_count": null,
      "outputs": []
    },
    {
      "cell_type": "code",
      "metadata": {
        "id": "Xpxta56qCq_7",
        "outputId": "d3c916b5-690b-48f1-f376-c06f01e4e938",
        "colab": {
          "base_uri": "https://localhost:8080/",
          "height": 185
        }
      },
      "source": [
        "x_train[:5]"
      ],
      "execution_count": null,
      "outputs": [
        {
          "output_type": "execute_result",
          "data": {
            "text/plain": [
              "array([[-1.1431e+02,  3.4190e+01,  1.5000e+01,  5.6120e+03,  1.2830e+03,\n",
              "         1.0150e+03,  4.7200e+02,  1.4936e+00],\n",
              "       [-1.1447e+02,  3.4400e+01,  1.9000e+01,  7.6500e+03,  1.9010e+03,\n",
              "         1.1290e+03,  4.6300e+02,  1.8200e+00],\n",
              "       [-1.1456e+02,  3.3690e+01,  1.7000e+01,  7.2000e+02,  1.7400e+02,\n",
              "         3.3300e+02,  1.1700e+02,  1.6509e+00],\n",
              "       [-1.1457e+02,  3.3640e+01,  1.4000e+01,  1.5010e+03,  3.3700e+02,\n",
              "         5.1500e+02,  2.2600e+02,  3.1917e+00],\n",
              "       [-1.1457e+02,  3.3570e+01,  2.0000e+01,  1.4540e+03,  3.2600e+02,\n",
              "         6.2400e+02,  2.6200e+02,  1.9250e+00]])"
            ]
          },
          "metadata": {
            "tags": []
          },
          "execution_count": 23
        }
      ]
    },
    {
      "cell_type": "code",
      "metadata": {
        "id": "5quZ8B_-CO6M"
      },
      "source": [
        "# Выделяем правильные ответы и преобразуем их в массивы numpy\n",
        "y_train = train[target].values\n",
        "y_test = test[target].values"
      ],
      "execution_count": null,
      "outputs": []
    },
    {
      "cell_type": "code",
      "metadata": {
        "id": "dKdOKsj0C0AY",
        "outputId": "756f0db5-c592-461a-d2de-ce1f087fa09e",
        "colab": {
          "base_uri": "https://localhost:8080/",
          "height": 34
        }
      },
      "source": [
        "y_train[0:5]"
      ],
      "execution_count": null,
      "outputs": [
        {
          "output_type": "execute_result",
          "data": {
            "text/plain": [
              "array([66900., 80100., 85700., 73400., 65500.])"
            ]
          },
          "metadata": {
            "tags": []
          },
          "execution_count": 25
        }
      ]
    },
    {
      "cell_type": "markdown",
      "metadata": {
        "id": "H2-y8KVEIhHN"
      },
      "source": [
        "**Стандартизация данных**\n",
        "\n",
        "Вычитаем среднее значение и делим на стандартное отклонение"
      ]
    },
    {
      "cell_type": "code",
      "metadata": {
        "id": "YiOT7gOXIp9d"
      },
      "source": [
        "# Среднее значение\n",
        "mean = x_train.mean(axis=0)\n",
        "# Стандартное отклонение\n",
        "std = x_train.std(axis=0)\n",
        "x_train -= mean\n",
        "x_train /= std\n",
        "x_test -= mean\n",
        "x_test /= std"
      ],
      "execution_count": null,
      "outputs": []
    },
    {
      "cell_type": "markdown",
      "metadata": {
        "id": "RmlSp15AK_JG"
      },
      "source": [
        "## Создаем нейронную сеть\n",
        "\n",
        "Выходной слой с одним линейным нейроном - для задачи регрессии функция активации - RELU."
      ]
    },
    {
      "cell_type": "code",
      "metadata": {
        "id": "YnCnMQ91LCKV"
      },
      "source": [
        "model = Sequential()\n",
        "model.add(Dense(64, activation='relu', input_shape=(x_train.shape[1],)))\n",
        "model.add(Dense(32, activation='relu'))\n",
        "model.add(Dense(1, activation='relu'))"
      ],
      "execution_count": null,
      "outputs": []
    },
    {
      "cell_type": "code",
      "metadata": {
        "id": "kFAVtJ1Z5jhy",
        "outputId": "c665e3ee-1098-4baa-9857-53e09bf3bd8b",
        "colab": {
          "base_uri": "https://localhost:8080/",
          "height": 269
        }
      },
      "source": [
        "print(model.summary())"
      ],
      "execution_count": null,
      "outputs": [
        {
          "output_type": "stream",
          "text": [
            "Model: \"sequential\"\n",
            "_________________________________________________________________\n",
            "Layer (type)                 Output Shape              Param #   \n",
            "=================================================================\n",
            "dense (Dense)                (None, 64)                576       \n",
            "_________________________________________________________________\n",
            "dense_1 (Dense)              (None, 32)                2080      \n",
            "_________________________________________________________________\n",
            "dense_2 (Dense)              (None, 1)                 33        \n",
            "=================================================================\n",
            "Total params: 2,689\n",
            "Trainable params: 2,689\n",
            "Non-trainable params: 0\n",
            "_________________________________________________________________\n",
            "None\n"
          ],
          "name": "stdout"
        }
      ]
    },
    {
      "cell_type": "markdown",
      "metadata": {
        "id": "F3g-CAK5LPx1"
      },
      "source": [
        "**Компилируем сеть**\n",
        "\n",
        "Функция ошибки - среднеквадратичное отклонение. Метрика - среднее абсолютное отклонение."
      ]
    },
    {
      "cell_type": "code",
      "metadata": {
        "id": "WOdqoaTkLNCe"
      },
      "source": [
        "model.compile(optimizer='adam', loss='mse', metrics=['mae'])"
      ],
      "execution_count": null,
      "outputs": []
    },
    {
      "cell_type": "markdown",
      "metadata": {
        "id": "cuE2Ekt1LeUW"
      },
      "source": [
        "## Обучаем нейронную сеть\n",
        "\n"
      ]
    },
    {
      "cell_type": "code",
      "metadata": {
        "id": "1EcFPWZcLmRl",
        "outputId": "2035a05d-d70d-4994-ba91-8a8958d1fe6a",
        "colab": {
          "base_uri": "https://localhost:8080/",
          "height": 1000
        }
      },
      "source": [
        "history = model.fit(x_train, \n",
        "                    y_train, \n",
        "                    epochs=500, \n",
        "                    validation_split=0.1, \n",
        "                    verbose=2)"
      ],
      "execution_count": null,
      "outputs": [
        {
          "output_type": "stream",
          "text": [
            "Epoch 1/500\n",
            "479/479 - 1s - loss: 54107144192.0000 - mae: 203095.8750 - val_loss: 75220615168.0000 - val_mae: 240746.9688\n",
            "Epoch 2/500\n",
            "479/479 - 1s - loss: 51528536064.0000 - mae: 197272.0312 - val_loss: 72942837760.0000 - val_mae: 236739.5781\n",
            "Epoch 3/500\n",
            "479/479 - 1s - loss: 44004892672.0000 - mae: 179075.2031 - val_loss: 68315762688.0000 - val_mae: 228369.9375\n",
            "Epoch 4/500\n",
            "479/479 - 1s - loss: 33262850048.0000 - mae: 149770.4375 - val_loss: 62034214912.0000 - val_mae: 216241.2500\n",
            "Epoch 5/500\n",
            "479/479 - 1s - loss: 23686430720.0000 - mae: 119702.8047 - val_loss: 54729129984.0000 - val_mae: 200805.8906\n",
            "Epoch 6/500\n",
            "479/479 - 1s - loss: 17752623104.0000 - mae: 99928.5547 - val_loss: 46882844672.0000 - val_mae: 182428.5312\n",
            "Epoch 7/500\n",
            "479/479 - 1s - loss: 14772417536.0000 - mae: 90940.0000 - val_loss: 39887654912.0000 - val_mae: 164330.6562\n",
            "Epoch 8/500\n",
            "479/479 - 0s - loss: 13116177408.0000 - mae: 85917.4453 - val_loss: 34406666240.0000 - val_mae: 149592.7031\n",
            "Epoch 9/500\n",
            "479/479 - 0s - loss: 11911155712.0000 - mae: 81797.3906 - val_loss: 30030616576.0000 - val_mae: 137295.7031\n",
            "Epoch 10/500\n",
            "479/479 - 0s - loss: 10913145856.0000 - mae: 77931.7031 - val_loss: 26353569792.0000 - val_mae: 126607.3594\n",
            "Epoch 11/500\n",
            "479/479 - 1s - loss: 10039632896.0000 - mae: 74170.0312 - val_loss: 23172939776.0000 - val_mae: 117179.3984\n",
            "Epoch 12/500\n",
            "479/479 - 0s - loss: 9250993152.0000 - mae: 70515.9453 - val_loss: 20312512512.0000 - val_mae: 108387.0703\n",
            "Epoch 13/500\n",
            "479/479 - 1s - loss: 8531323392.0000 - mae: 67127.8125 - val_loss: 17864087552.0000 - val_mae: 100561.9141\n",
            "Epoch 14/500\n",
            "479/479 - 0s - loss: 7875558912.0000 - mae: 64034.3828 - val_loss: 15683316736.0000 - val_mae: 93299.8594\n",
            "Epoch 15/500\n",
            "479/479 - 1s - loss: 7286967296.0000 - mae: 61306.6289 - val_loss: 13913985024.0000 - val_mae: 87305.5234\n",
            "Epoch 16/500\n",
            "479/479 - 1s - loss: 6755739648.0000 - mae: 58807.8633 - val_loss: 12362416128.0000 - val_mae: 81801.9609\n",
            "Epoch 17/500\n",
            "479/479 - 1s - loss: 6292660224.0000 - mae: 56777.7344 - val_loss: 11164692480.0000 - val_mae: 77409.4766\n",
            "Epoch 18/500\n",
            "479/479 - 0s - loss: 5898167296.0000 - mae: 55095.2383 - val_loss: 10136151040.0000 - val_mae: 73507.8672\n",
            "Epoch 19/500\n",
            "479/479 - 1s - loss: 5570319360.0000 - mae: 53709.9922 - val_loss: 9444119552.0000 - val_mae: 70837.3047\n",
            "Epoch 20/500\n",
            "479/479 - 1s - loss: 5313793024.0000 - mae: 52626.0781 - val_loss: 8849836032.0000 - val_mae: 68507.8516\n",
            "Epoch 21/500\n",
            "479/479 - 1s - loss: 5123573248.0000 - mae: 51849.7266 - val_loss: 8420841472.0000 - val_mae: 66720.8047\n",
            "Epoch 22/500\n",
            "479/479 - 1s - loss: 4986459648.0000 - mae: 51226.1133 - val_loss: 8046544384.0000 - val_mae: 65234.6641\n",
            "Epoch 23/500\n",
            "479/479 - 1s - loss: 4885449728.0000 - mae: 50860.5977 - val_loss: 7976209408.0000 - val_mae: 64929.4648\n",
            "Epoch 24/500\n",
            "479/479 - 1s - loss: 4808022016.0000 - mae: 50396.8711 - val_loss: 7806180864.0000 - val_mae: 64241.9219\n",
            "Epoch 25/500\n",
            "479/479 - 1s - loss: 4745576960.0000 - mae: 50034.1641 - val_loss: 7619888128.0000 - val_mae: 63468.3398\n",
            "Epoch 26/500\n",
            "479/479 - 1s - loss: 4693081088.0000 - mae: 49858.0703 - val_loss: 7554493440.0000 - val_mae: 63211.6992\n",
            "Epoch 27/500\n",
            "479/479 - 1s - loss: 4648717312.0000 - mae: 49413.0664 - val_loss: 7368396800.0000 - val_mae: 62466.0742\n",
            "Epoch 28/500\n",
            "479/479 - 1s - loss: 4609261568.0000 - mae: 49286.2266 - val_loss: 7353391616.0000 - val_mae: 62490.2930\n",
            "Epoch 29/500\n",
            "479/479 - 1s - loss: 4575358464.0000 - mae: 48973.3477 - val_loss: 7233212928.0000 - val_mae: 62025.7852\n",
            "Epoch 30/500\n",
            "479/479 - 1s - loss: 4544894464.0000 - mae: 48821.8086 - val_loss: 7182925824.0000 - val_mae: 61853.7891\n",
            "Epoch 31/500\n",
            "479/479 - 1s - loss: 4517277696.0000 - mae: 48596.7031 - val_loss: 7103218688.0000 - val_mae: 61596.9844\n",
            "Epoch 32/500\n",
            "479/479 - 1s - loss: 4491931136.0000 - mae: 48420.0156 - val_loss: 7070594048.0000 - val_mae: 61377.9609\n",
            "Epoch 33/500\n",
            "479/479 - 1s - loss: 4472511488.0000 - mae: 48268.7109 - val_loss: 6999894528.0000 - val_mae: 61207.9297\n",
            "Epoch 34/500\n",
            "479/479 - 1s - loss: 4453212672.0000 - mae: 48122.4883 - val_loss: 6930704384.0000 - val_mae: 61011.7031\n",
            "Epoch 35/500\n",
            "479/479 - 1s - loss: 4434457600.0000 - mae: 48013.9688 - val_loss: 6937592832.0000 - val_mae: 61114.9414\n",
            "Epoch 36/500\n",
            "479/479 - 1s - loss: 4418533888.0000 - mae: 47856.2539 - val_loss: 6905525760.0000 - val_mae: 60974.0859\n",
            "Epoch 37/500\n",
            "479/479 - 1s - loss: 4404719104.0000 - mae: 47780.2188 - val_loss: 6919929344.0000 - val_mae: 61064.5898\n",
            "Epoch 38/500\n",
            "479/479 - 1s - loss: 4390456832.0000 - mae: 47624.0977 - val_loss: 6875359232.0000 - val_mae: 61022.7969\n",
            "Epoch 39/500\n",
            "479/479 - 1s - loss: 4378185216.0000 - mae: 47576.7930 - val_loss: 6877263872.0000 - val_mae: 61086.6758\n",
            "Epoch 40/500\n",
            "479/479 - 1s - loss: 4366340608.0000 - mae: 47486.9531 - val_loss: 6876729856.0000 - val_mae: 61131.0586\n",
            "Epoch 41/500\n",
            "479/479 - 1s - loss: 4355120640.0000 - mae: 47340.4648 - val_loss: 6815151104.0000 - val_mae: 60998.3867\n",
            "Epoch 42/500\n",
            "479/479 - 1s - loss: 4345555968.0000 - mae: 47330.1953 - val_loss: 6813822464.0000 - val_mae: 60998.4414\n",
            "Epoch 43/500\n",
            "479/479 - 1s - loss: 4335986176.0000 - mae: 47230.7969 - val_loss: 6811609088.0000 - val_mae: 61070.2773\n",
            "Epoch 44/500\n",
            "479/479 - 1s - loss: 4327050240.0000 - mae: 47116.3516 - val_loss: 6773647872.0000 - val_mae: 61026.2695\n",
            "Epoch 45/500\n",
            "479/479 - 1s - loss: 4319600128.0000 - mae: 47107.3867 - val_loss: 6783524352.0000 - val_mae: 61106.9570\n",
            "Epoch 46/500\n",
            "479/479 - 1s - loss: 4311213568.0000 - mae: 47061.0781 - val_loss: 6807688704.0000 - val_mae: 61274.7578\n",
            "Epoch 47/500\n",
            "479/479 - 1s - loss: 4303971840.0000 - mae: 46979.9102 - val_loss: 6796587008.0000 - val_mae: 61283.3164\n",
            "Epoch 48/500\n",
            "479/479 - 1s - loss: 4295783424.0000 - mae: 46927.3867 - val_loss: 6826621952.0000 - val_mae: 61472.0664\n",
            "Epoch 49/500\n",
            "479/479 - 1s - loss: 4289664000.0000 - mae: 46822.0117 - val_loss: 6772228608.0000 - val_mae: 61281.2188\n",
            "Epoch 50/500\n",
            "479/479 - 1s - loss: 4283639040.0000 - mae: 46827.8555 - val_loss: 6778449920.0000 - val_mae: 61339.6953\n",
            "Epoch 51/500\n",
            "479/479 - 1s - loss: 4276966144.0000 - mae: 46720.6914 - val_loss: 6781353984.0000 - val_mae: 61402.0508\n",
            "Epoch 52/500\n",
            "479/479 - 1s - loss: 4271057408.0000 - mae: 46749.1094 - val_loss: 6796164608.0000 - val_mae: 61520.7734\n",
            "Epoch 53/500\n",
            "479/479 - 1s - loss: 4265075456.0000 - mae: 46607.1758 - val_loss: 6733828608.0000 - val_mae: 61305.0391\n",
            "Epoch 54/500\n",
            "479/479 - 1s - loss: 4260580864.0000 - mae: 46632.4023 - val_loss: 6799485952.0000 - val_mae: 61507.0781\n",
            "Epoch 55/500\n",
            "479/479 - 1s - loss: 4254619136.0000 - mae: 46579.3750 - val_loss: 6813330944.0000 - val_mae: 61621.6797\n",
            "Epoch 56/500\n",
            "479/479 - 1s - loss: 4249034496.0000 - mae: 46499.4375 - val_loss: 6772475904.0000 - val_mae: 61523.7188\n",
            "Epoch 57/500\n",
            "479/479 - 0s - loss: 4244188928.0000 - mae: 46458.9336 - val_loss: 6704815616.0000 - val_mae: 61346.2266\n",
            "Epoch 58/500\n",
            "479/479 - 1s - loss: 4239963136.0000 - mae: 46422.5117 - val_loss: 6737592320.0000 - val_mae: 61507.4766\n",
            "Epoch 59/500\n",
            "479/479 - 1s - loss: 4234599168.0000 - mae: 46393.6172 - val_loss: 6720366080.0000 - val_mae: 61450.8320\n",
            "Epoch 60/500\n",
            "479/479 - 1s - loss: 4230338816.0000 - mae: 46329.4414 - val_loss: 6728290816.0000 - val_mae: 61544.4922\n",
            "Epoch 61/500\n",
            "479/479 - 0s - loss: 4225481984.0000 - mae: 46343.4609 - val_loss: 6732350976.0000 - val_mae: 61580.8594\n",
            "Epoch 62/500\n",
            "479/479 - 1s - loss: 4220630272.0000 - mae: 46273.8398 - val_loss: 6679915008.0000 - val_mae: 61325.0742\n",
            "Epoch 63/500\n",
            "479/479 - 0s - loss: 4216102912.0000 - mae: 46302.1250 - val_loss: 6752847872.0000 - val_mae: 61649.7930\n",
            "Epoch 64/500\n",
            "479/479 - 1s - loss: 4212623872.0000 - mae: 46179.9023 - val_loss: 6724921856.0000 - val_mae: 61526.8086\n",
            "Epoch 65/500\n",
            "479/479 - 1s - loss: 4208312320.0000 - mae: 46164.8555 - val_loss: 6751692800.0000 - val_mae: 61726.4219\n",
            "Epoch 66/500\n",
            "479/479 - 1s - loss: 4204109056.0000 - mae: 46188.5664 - val_loss: 6766548992.0000 - val_mae: 61736.4062\n",
            "Epoch 67/500\n",
            "479/479 - 1s - loss: 4199283456.0000 - mae: 46076.3516 - val_loss: 6781847040.0000 - val_mae: 61842.1523\n",
            "Epoch 68/500\n",
            "479/479 - 1s - loss: 4195853056.0000 - mae: 46076.5000 - val_loss: 6706717184.0000 - val_mae: 61598.4922\n",
            "Epoch 69/500\n",
            "479/479 - 1s - loss: 4191689728.0000 - mae: 46010.4297 - val_loss: 6706798080.0000 - val_mae: 61626.4180\n",
            "Epoch 70/500\n",
            "479/479 - 1s - loss: 4188574208.0000 - mae: 46055.0273 - val_loss: 6707671040.0000 - val_mae: 61685.7188\n",
            "Epoch 71/500\n",
            "479/479 - 1s - loss: 4183990272.0000 - mae: 45968.8867 - val_loss: 6765078528.0000 - val_mae: 61859.9336\n",
            "Epoch 72/500\n",
            "479/479 - 1s - loss: 4180740864.0000 - mae: 45975.0234 - val_loss: 6733794304.0000 - val_mae: 61774.1797\n",
            "Epoch 73/500\n",
            "479/479 - 0s - loss: 4176907008.0000 - mae: 45935.1562 - val_loss: 6704745984.0000 - val_mae: 61711.1562\n",
            "Epoch 74/500\n",
            "479/479 - 1s - loss: 4173661696.0000 - mae: 45877.0117 - val_loss: 6724355584.0000 - val_mae: 61793.6758\n",
            "Epoch 75/500\n",
            "479/479 - 1s - loss: 4169830912.0000 - mae: 45902.5078 - val_loss: 6715912192.0000 - val_mae: 61706.4414\n",
            "Epoch 76/500\n",
            "479/479 - 1s - loss: 4166504704.0000 - mae: 45806.8438 - val_loss: 6706934272.0000 - val_mae: 61695.0508\n",
            "Epoch 77/500\n",
            "479/479 - 1s - loss: 4161924864.0000 - mae: 45840.8398 - val_loss: 6768620544.0000 - val_mae: 61914.3164\n",
            "Epoch 78/500\n",
            "479/479 - 1s - loss: 4158992896.0000 - mae: 45743.2188 - val_loss: 6751995904.0000 - val_mae: 61926.9414\n",
            "Epoch 79/500\n",
            "479/479 - 1s - loss: 4155497472.0000 - mae: 45739.3203 - val_loss: 6705572352.0000 - val_mae: 61828.7773\n",
            "Epoch 80/500\n",
            "479/479 - 1s - loss: 4151617792.0000 - mae: 45770.2656 - val_loss: 6789946368.0000 - val_mae: 62081.9766\n",
            "Epoch 81/500\n",
            "479/479 - 1s - loss: 4148882176.0000 - mae: 45664.6641 - val_loss: 6734057472.0000 - val_mae: 61868.1914\n",
            "Epoch 82/500\n",
            "479/479 - 1s - loss: 4145379840.0000 - mae: 45661.0977 - val_loss: 6697887744.0000 - val_mae: 61732.0195\n",
            "Epoch 83/500\n",
            "479/479 - 0s - loss: 4142640640.0000 - mae: 45664.2500 - val_loss: 6703078400.0000 - val_mae: 61810.7109\n",
            "Epoch 84/500\n",
            "479/479 - 1s - loss: 4138395904.0000 - mae: 45578.3828 - val_loss: 6684818944.0000 - val_mae: 61728.3047\n",
            "Epoch 85/500\n",
            "479/479 - 1s - loss: 4135558144.0000 - mae: 45630.3047 - val_loss: 6715165184.0000 - val_mae: 61892.7422\n",
            "Epoch 86/500\n",
            "479/479 - 1s - loss: 4131579392.0000 - mae: 45524.4023 - val_loss: 6689945600.0000 - val_mae: 61735.7930\n",
            "Epoch 87/500\n",
            "479/479 - 1s - loss: 4129113600.0000 - mae: 45608.0508 - val_loss: 6711452160.0000 - val_mae: 61827.1953\n",
            "Epoch 88/500\n",
            "479/479 - 1s - loss: 4126961408.0000 - mae: 45486.2891 - val_loss: 6707273728.0000 - val_mae: 61835.1055\n",
            "Epoch 89/500\n",
            "479/479 - 1s - loss: 4123391744.0000 - mae: 45512.6758 - val_loss: 6737568768.0000 - val_mae: 61938.1562\n",
            "Epoch 90/500\n",
            "479/479 - 1s - loss: 4120720896.0000 - mae: 45451.7891 - val_loss: 6719943168.0000 - val_mae: 61834.4102\n",
            "Epoch 91/500\n",
            "479/479 - 1s - loss: 4118627328.0000 - mae: 45480.3164 - val_loss: 6743735296.0000 - val_mae: 62016.7891\n",
            "Epoch 92/500\n",
            "479/479 - 1s - loss: 4114122240.0000 - mae: 45424.9492 - val_loss: 6779690496.0000 - val_mae: 62183.3281\n",
            "Epoch 93/500\n",
            "479/479 - 1s - loss: 4111942400.0000 - mae: 45398.1406 - val_loss: 6795487232.0000 - val_mae: 62296.4766\n",
            "Epoch 94/500\n",
            "479/479 - 1s - loss: 4109799936.0000 - mae: 45352.6523 - val_loss: 6732895232.0000 - val_mae: 61973.3789\n",
            "Epoch 95/500\n",
            "479/479 - 1s - loss: 4106089216.0000 - mae: 45376.9219 - val_loss: 6757435392.0000 - val_mae: 62068.3750\n",
            "Epoch 96/500\n",
            "479/479 - 1s - loss: 4103468544.0000 - mae: 45357.8984 - val_loss: 6757743104.0000 - val_mae: 62136.8281\n",
            "Epoch 97/500\n",
            "479/479 - 0s - loss: 4100586752.0000 - mae: 45300.3594 - val_loss: 6717584384.0000 - val_mae: 61947.0039\n",
            "Epoch 98/500\n",
            "479/479 - 1s - loss: 4097359104.0000 - mae: 45288.3633 - val_loss: 6685522944.0000 - val_mae: 61793.4883\n",
            "Epoch 99/500\n",
            "479/479 - 1s - loss: 4095176192.0000 - mae: 45284.4023 - val_loss: 6702088192.0000 - val_mae: 61916.7656\n",
            "Epoch 100/500\n",
            "479/479 - 1s - loss: 4092476160.0000 - mae: 45296.9688 - val_loss: 6730537472.0000 - val_mae: 62053.2578\n",
            "Epoch 101/500\n",
            "479/479 - 1s - loss: 4090008576.0000 - mae: 45222.1602 - val_loss: 6731105280.0000 - val_mae: 61996.3828\n",
            "Epoch 102/500\n",
            "479/479 - 1s - loss: 4086300928.0000 - mae: 45210.7891 - val_loss: 6739067904.0000 - val_mae: 62035.7422\n",
            "Epoch 103/500\n",
            "479/479 - 1s - loss: 4083283968.0000 - mae: 45141.1914 - val_loss: 6699032576.0000 - val_mae: 61873.0898\n",
            "Epoch 104/500\n",
            "479/479 - 1s - loss: 4080467456.0000 - mae: 45175.0078 - val_loss: 6759341056.0000 - val_mae: 62162.2148\n",
            "Epoch 105/500\n",
            "479/479 - 1s - loss: 4078151168.0000 - mae: 45148.6484 - val_loss: 6741187584.0000 - val_mae: 62098.9727\n",
            "Epoch 106/500\n",
            "479/479 - 1s - loss: 4075056128.0000 - mae: 45135.9961 - val_loss: 6722451456.0000 - val_mae: 62033.0977\n",
            "Epoch 107/500\n",
            "479/479 - 1s - loss: 4073593344.0000 - mae: 45062.3750 - val_loss: 6737034240.0000 - val_mae: 62083.2656\n",
            "Epoch 108/500\n",
            "479/479 - 0s - loss: 4069862656.0000 - mae: 45100.6758 - val_loss: 6708777472.0000 - val_mae: 61944.4336\n",
            "Epoch 109/500\n",
            "479/479 - 1s - loss: 4067354112.0000 - mae: 45105.5156 - val_loss: 6767967744.0000 - val_mae: 62221.0781\n",
            "Epoch 110/500\n",
            "479/479 - 0s - loss: 4065304832.0000 - mae: 45051.7930 - val_loss: 6758941184.0000 - val_mae: 62238.4844\n",
            "Epoch 111/500\n",
            "479/479 - 1s - loss: 4062765568.0000 - mae: 45015.3047 - val_loss: 6772869120.0000 - val_mae: 62315.1680\n",
            "Epoch 112/500\n",
            "479/479 - 1s - loss: 4059644672.0000 - mae: 44977.0977 - val_loss: 6696241664.0000 - val_mae: 62022.9492\n",
            "Epoch 113/500\n",
            "479/479 - 1s - loss: 4057077760.0000 - mae: 45043.3477 - val_loss: 6733364224.0000 - val_mae: 62185.7539\n",
            "Epoch 114/500\n",
            "479/479 - 1s - loss: 4055268352.0000 - mae: 45021.0117 - val_loss: 6755634688.0000 - val_mae: 62240.1602\n",
            "Epoch 115/500\n",
            "479/479 - 1s - loss: 4051735040.0000 - mae: 44925.2578 - val_loss: 6746850304.0000 - val_mae: 62296.0234\n",
            "Epoch 116/500\n",
            "479/479 - 0s - loss: 4049762048.0000 - mae: 44946.3281 - val_loss: 6727558144.0000 - val_mae: 62191.4922\n",
            "Epoch 117/500\n",
            "479/479 - 1s - loss: 4047062016.0000 - mae: 44919.0820 - val_loss: 6721624576.0000 - val_mae: 62139.1992\n",
            "Epoch 118/500\n",
            "479/479 - 1s - loss: 4044019456.0000 - mae: 44948.2852 - val_loss: 6800477184.0000 - val_mae: 62434.1406\n",
            "Epoch 119/500\n",
            "479/479 - 1s - loss: 4041793024.0000 - mae: 44856.1641 - val_loss: 6747248640.0000 - val_mae: 62290.2227\n",
            "Epoch 120/500\n",
            "479/479 - 1s - loss: 4039400704.0000 - mae: 44859.2383 - val_loss: 6763152896.0000 - val_mae: 62391.9922\n",
            "Epoch 121/500\n",
            "479/479 - 1s - loss: 4036570112.0000 - mae: 44843.9219 - val_loss: 6765427200.0000 - val_mae: 62400.3359\n",
            "Epoch 122/500\n",
            "479/479 - 1s - loss: 4033989632.0000 - mae: 44838.3672 - val_loss: 6805929472.0000 - val_mae: 62544.9570\n",
            "Epoch 123/500\n",
            "479/479 - 1s - loss: 4031248128.0000 - mae: 44763.5312 - val_loss: 6723962880.0000 - val_mae: 62287.4531\n",
            "Epoch 124/500\n",
            "479/479 - 1s - loss: 4029658368.0000 - mae: 44855.7578 - val_loss: 6797492224.0000 - val_mae: 62457.6602\n",
            "Epoch 125/500\n",
            "479/479 - 1s - loss: 4026087680.0000 - mae: 44734.0508 - val_loss: 6761039872.0000 - val_mae: 62404.9727\n",
            "Epoch 126/500\n",
            "479/479 - 1s - loss: 4023679232.0000 - mae: 44736.1602 - val_loss: 6729516544.0000 - val_mae: 62296.9727\n",
            "Epoch 127/500\n",
            "479/479 - 1s - loss: 4021277952.0000 - mae: 44734.7070 - val_loss: 6732208640.0000 - val_mae: 62309.4023\n",
            "Epoch 128/500\n",
            "479/479 - 1s - loss: 4019763712.0000 - mae: 44741.1875 - val_loss: 6818468864.0000 - val_mae: 62600.1367\n",
            "Epoch 129/500\n",
            "479/479 - 1s - loss: 4016941056.0000 - mae: 44675.9961 - val_loss: 6786104320.0000 - val_mae: 62525.2031\n",
            "Epoch 130/500\n",
            "479/479 - 1s - loss: 4014062848.0000 - mae: 44695.2422 - val_loss: 6773306368.0000 - val_mae: 62549.9766\n",
            "Epoch 131/500\n",
            "479/479 - 1s - loss: 4012319232.0000 - mae: 44660.8320 - val_loss: 6794769920.0000 - val_mae: 62628.7031\n",
            "Epoch 132/500\n",
            "479/479 - 1s - loss: 4009329920.0000 - mae: 44659.9336 - val_loss: 6816461312.0000 - val_mae: 62723.0742\n",
            "Epoch 133/500\n",
            "479/479 - 1s - loss: 4006614272.0000 - mae: 44598.3555 - val_loss: 6780569088.0000 - val_mae: 62638.3398\n",
            "Epoch 134/500\n",
            "479/479 - 1s - loss: 4004521984.0000 - mae: 44688.2148 - val_loss: 6760207872.0000 - val_mae: 62532.2695\n",
            "Epoch 135/500\n",
            "479/479 - 1s - loss: 4001111808.0000 - mae: 44571.8086 - val_loss: 6831643648.0000 - val_mae: 62791.7422\n",
            "Epoch 136/500\n",
            "479/479 - 1s - loss: 3999551488.0000 - mae: 44617.2148 - val_loss: 6816334336.0000 - val_mae: 62785.6016\n",
            "Epoch 137/500\n",
            "479/479 - 1s - loss: 3995382016.0000 - mae: 44532.0508 - val_loss: 6763238912.0000 - val_mae: 62603.7969\n",
            "Epoch 138/500\n",
            "479/479 - 1s - loss: 3994801152.0000 - mae: 44550.5273 - val_loss: 6788746240.0000 - val_mae: 62717.6641\n",
            "Epoch 139/500\n",
            "479/479 - 0s - loss: 3992267264.0000 - mae: 44548.5547 - val_loss: 6812908544.0000 - val_mae: 62807.1914\n",
            "Epoch 140/500\n",
            "479/479 - 1s - loss: 3989296896.0000 - mae: 44512.7812 - val_loss: 6810531840.0000 - val_mae: 62869.5469\n",
            "Epoch 141/500\n",
            "479/479 - 1s - loss: 3986467584.0000 - mae: 44489.0977 - val_loss: 6813037056.0000 - val_mae: 62791.8594\n",
            "Epoch 142/500\n",
            "479/479 - 1s - loss: 3984642048.0000 - mae: 44507.6758 - val_loss: 6831569408.0000 - val_mae: 62901.9102\n",
            "Epoch 143/500\n",
            "479/479 - 1s - loss: 3982010112.0000 - mae: 44434.1914 - val_loss: 6842298880.0000 - val_mae: 62964.0156\n",
            "Epoch 144/500\n",
            "479/479 - 1s - loss: 3979099904.0000 - mae: 44415.7656 - val_loss: 6870254592.0000 - val_mae: 63076.6914\n",
            "Epoch 145/500\n",
            "479/479 - 1s - loss: 3976655872.0000 - mae: 44440.6953 - val_loss: 6829804032.0000 - val_mae: 62945.8711\n",
            "Epoch 146/500\n",
            "479/479 - 1s - loss: 3973019904.0000 - mae: 44378.0742 - val_loss: 6789550080.0000 - val_mae: 62797.3086\n",
            "Epoch 147/500\n",
            "479/479 - 1s - loss: 3971934976.0000 - mae: 44424.8242 - val_loss: 6853967872.0000 - val_mae: 63084.1836\n",
            "Epoch 148/500\n",
            "479/479 - 1s - loss: 3968644864.0000 - mae: 44390.1562 - val_loss: 6880669184.0000 - val_mae: 63137.0430\n",
            "Epoch 149/500\n",
            "479/479 - 1s - loss: 3965689600.0000 - mae: 44337.3984 - val_loss: 6878705664.0000 - val_mae: 63169.9844\n",
            "Epoch 150/500\n",
            "479/479 - 1s - loss: 3963257600.0000 - mae: 44377.4609 - val_loss: 6881805312.0000 - val_mae: 63205.1992\n",
            "Epoch 151/500\n",
            "479/479 - 1s - loss: 3960437504.0000 - mae: 44293.1523 - val_loss: 6871823872.0000 - val_mae: 63217.1211\n",
            "Epoch 152/500\n",
            "479/479 - 1s - loss: 3957569536.0000 - mae: 44258.5117 - val_loss: 6826009600.0000 - val_mae: 63025.8008\n",
            "Epoch 153/500\n",
            "479/479 - 1s - loss: 3954895360.0000 - mae: 44299.0938 - val_loss: 6909522944.0000 - val_mae: 63378.0742\n",
            "Epoch 154/500\n",
            "479/479 - 1s - loss: 3951655168.0000 - mae: 44238.2695 - val_loss: 6859638784.0000 - val_mae: 63160.5000\n",
            "Epoch 155/500\n",
            "479/479 - 1s - loss: 3948806144.0000 - mae: 44189.5898 - val_loss: 6880068608.0000 - val_mae: 63311.3594\n",
            "Epoch 156/500\n",
            "479/479 - 1s - loss: 3946210304.0000 - mae: 44261.9961 - val_loss: 6896830464.0000 - val_mae: 63343.7266\n",
            "Epoch 157/500\n",
            "479/479 - 1s - loss: 3943386112.0000 - mae: 44166.1758 - val_loss: 6838661120.0000 - val_mae: 63140.4375\n",
            "Epoch 158/500\n",
            "479/479 - 1s - loss: 3939825152.0000 - mae: 44183.8125 - val_loss: 6908247040.0000 - val_mae: 63408.7344\n",
            "Epoch 159/500\n",
            "479/479 - 1s - loss: 3937696256.0000 - mae: 44116.6836 - val_loss: 6907672576.0000 - val_mae: 63386.7773\n",
            "Epoch 160/500\n",
            "479/479 - 1s - loss: 3934019584.0000 - mae: 44104.3672 - val_loss: 6896444416.0000 - val_mae: 63410.9844\n",
            "Epoch 161/500\n",
            "479/479 - 1s - loss: 3931014400.0000 - mae: 44156.2969 - val_loss: 6921194496.0000 - val_mae: 63556.1055\n",
            "Epoch 162/500\n",
            "479/479 - 1s - loss: 3928184576.0000 - mae: 44059.2695 - val_loss: 6929837568.0000 - val_mae: 63506.9180\n",
            "Epoch 163/500\n",
            "479/479 - 1s - loss: 3925269504.0000 - mae: 44070.1758 - val_loss: 6934092288.0000 - val_mae: 63558.9688\n",
            "Epoch 164/500\n",
            "479/479 - 1s - loss: 3922463488.0000 - mae: 44060.8633 - val_loss: 6911715328.0000 - val_mae: 63468.1367\n",
            "Epoch 165/500\n",
            "479/479 - 1s - loss: 3919550976.0000 - mae: 43999.3672 - val_loss: 6936237056.0000 - val_mae: 63598.3438\n",
            "Epoch 166/500\n",
            "479/479 - 1s - loss: 3916294400.0000 - mae: 44014.5820 - val_loss: 6954066432.0000 - val_mae: 63687.5352\n",
            "Epoch 167/500\n",
            "479/479 - 1s - loss: 3912791808.0000 - mae: 43976.4375 - val_loss: 6957976576.0000 - val_mae: 63723.8672\n",
            "Epoch 168/500\n",
            "479/479 - 1s - loss: 3909227520.0000 - mae: 43916.1758 - val_loss: 6960561664.0000 - val_mae: 63756.8984\n",
            "Epoch 169/500\n",
            "479/479 - 1s - loss: 3906932992.0000 - mae: 43975.1445 - val_loss: 6926971904.0000 - val_mae: 63625.0117\n",
            "Epoch 170/500\n",
            "479/479 - 1s - loss: 3903994368.0000 - mae: 43926.3633 - val_loss: 6982447104.0000 - val_mae: 63875.1992\n",
            "Epoch 171/500\n",
            "479/479 - 1s - loss: 3900569088.0000 - mae: 43942.2422 - val_loss: 6990603264.0000 - val_mae: 63915.2812\n",
            "Epoch 172/500\n",
            "479/479 - 1s - loss: 3897227264.0000 - mae: 43869.0352 - val_loss: 6999566848.0000 - val_mae: 63957.2148\n",
            "Epoch 173/500\n",
            "479/479 - 1s - loss: 3894913024.0000 - mae: 43826.4688 - val_loss: 7003984384.0000 - val_mae: 63986.1445\n",
            "Epoch 174/500\n",
            "479/479 - 1s - loss: 3891733760.0000 - mae: 43860.5312 - val_loss: 7024061952.0000 - val_mae: 64046.8750\n",
            "Epoch 175/500\n",
            "479/479 - 1s - loss: 3888633344.0000 - mae: 43802.1875 - val_loss: 6984155136.0000 - val_mae: 63921.8125\n",
            "Epoch 176/500\n",
            "479/479 - 1s - loss: 3884568576.0000 - mae: 43846.9922 - val_loss: 7031668736.0000 - val_mae: 64129.1445\n",
            "Epoch 177/500\n",
            "479/479 - 1s - loss: 3882956544.0000 - mae: 43738.8164 - val_loss: 7046826496.0000 - val_mae: 64155.4492\n",
            "Epoch 178/500\n",
            "479/479 - 1s - loss: 3878561536.0000 - mae: 43743.8672 - val_loss: 6963471872.0000 - val_mae: 63809.1445\n",
            "Epoch 179/500\n",
            "479/479 - 1s - loss: 3876380672.0000 - mae: 43730.9141 - val_loss: 7045475840.0000 - val_mae: 64208.2148\n",
            "Epoch 180/500\n",
            "479/479 - 1s - loss: 3872928256.0000 - mae: 43685.1875 - val_loss: 7033153536.0000 - val_mae: 64157.4922\n",
            "Epoch 181/500\n",
            "479/479 - 1s - loss: 3868594432.0000 - mae: 43646.1328 - val_loss: 7034507776.0000 - val_mae: 64135.6367\n",
            "Epoch 182/500\n",
            "479/479 - 1s - loss: 3865814528.0000 - mae: 43678.8906 - val_loss: 7134643712.0000 - val_mae: 64591.2461\n",
            "Epoch 183/500\n",
            "479/479 - 1s - loss: 3864059136.0000 - mae: 43599.3828 - val_loss: 7072936448.0000 - val_mae: 64386.8242\n",
            "Epoch 184/500\n",
            "479/479 - 1s - loss: 3859470592.0000 - mae: 43614.8711 - val_loss: 7038003712.0000 - val_mae: 64222.2969\n",
            "Epoch 185/500\n",
            "479/479 - 1s - loss: 3856747776.0000 - mae: 43573.8984 - val_loss: 7074179584.0000 - val_mae: 64369.2227\n",
            "Epoch 186/500\n",
            "479/479 - 1s - loss: 3853669376.0000 - mae: 43571.8242 - val_loss: 7056413696.0000 - val_mae: 64346.7031\n",
            "Epoch 187/500\n",
            "479/479 - 1s - loss: 3849848832.0000 - mae: 43510.7734 - val_loss: 7119303680.0000 - val_mae: 64551.3125\n",
            "Epoch 188/500\n",
            "479/479 - 1s - loss: 3846013184.0000 - mae: 43551.3359 - val_loss: 7143104000.0000 - val_mae: 64660.1133\n",
            "Epoch 189/500\n",
            "479/479 - 1s - loss: 3843628288.0000 - mae: 43504.0664 - val_loss: 7121781760.0000 - val_mae: 64652.6875\n",
            "Epoch 190/500\n",
            "479/479 - 1s - loss: 3840935680.0000 - mae: 43441.0430 - val_loss: 7160531456.0000 - val_mae: 64773.3711\n",
            "Epoch 191/500\n",
            "479/479 - 1s - loss: 3834870784.0000 - mae: 43458.5039 - val_loss: 7139868160.0000 - val_mae: 64635.0117\n",
            "Epoch 192/500\n",
            "479/479 - 1s - loss: 3834188032.0000 - mae: 43394.1445 - val_loss: 7088494080.0000 - val_mae: 64552.9922\n",
            "Epoch 193/500\n",
            "479/479 - 1s - loss: 3831204096.0000 - mae: 43397.7148 - val_loss: 7187821568.0000 - val_mae: 64915.2812\n",
            "Epoch 194/500\n",
            "479/479 - 1s - loss: 3827828736.0000 - mae: 43394.9336 - val_loss: 7210625024.0000 - val_mae: 64978.7617\n",
            "Epoch 195/500\n",
            "479/479 - 1s - loss: 3824200960.0000 - mae: 43342.9375 - val_loss: 7166932992.0000 - val_mae: 64803.1406\n",
            "Epoch 196/500\n",
            "479/479 - 1s - loss: 3821614080.0000 - mae: 43296.0000 - val_loss: 7137747456.0000 - val_mae: 64734.9648\n",
            "Epoch 197/500\n",
            "479/479 - 1s - loss: 3817952000.0000 - mae: 43307.0000 - val_loss: 7165385728.0000 - val_mae: 64888.4219\n",
            "Epoch 198/500\n",
            "479/479 - 1s - loss: 3815280640.0000 - mae: 43293.8711 - val_loss: 7176414720.0000 - val_mae: 64879.5625\n",
            "Epoch 199/500\n",
            "479/479 - 1s - loss: 3810017280.0000 - mae: 43199.8203 - val_loss: 7160490496.0000 - val_mae: 64808.9375\n",
            "Epoch 200/500\n",
            "479/479 - 1s - loss: 3809667840.0000 - mae: 43296.8906 - val_loss: 7236505088.0000 - val_mae: 65121.2578\n",
            "Epoch 201/500\n",
            "479/479 - 1s - loss: 3805822976.0000 - mae: 43228.9102 - val_loss: 7242848256.0000 - val_mae: 65113.0820\n",
            "Epoch 202/500\n",
            "479/479 - 1s - loss: 3803043584.0000 - mae: 43198.0859 - val_loss: 7203337728.0000 - val_mae: 65045.0078\n",
            "Epoch 203/500\n",
            "479/479 - 1s - loss: 3799721472.0000 - mae: 43159.3750 - val_loss: 7261916160.0000 - val_mae: 65224.6523\n",
            "Epoch 204/500\n",
            "479/479 - 1s - loss: 3796609536.0000 - mae: 43133.6328 - val_loss: 7255964160.0000 - val_mae: 65247.8086\n",
            "Epoch 205/500\n",
            "479/479 - 1s - loss: 3793090816.0000 - mae: 43079.8789 - val_loss: 7223047168.0000 - val_mae: 65069.2227\n",
            "Epoch 206/500\n",
            "479/479 - 1s - loss: 3790738176.0000 - mae: 43149.5078 - val_loss: 7246371328.0000 - val_mae: 65216.1602\n",
            "Epoch 207/500\n",
            "479/479 - 1s - loss: 3787407360.0000 - mae: 43079.0508 - val_loss: 7272585216.0000 - val_mae: 65316.9883\n",
            "Epoch 208/500\n",
            "479/479 - 1s - loss: 3784724224.0000 - mae: 43078.3438 - val_loss: 7289564160.0000 - val_mae: 65434.2578\n",
            "Epoch 209/500\n",
            "479/479 - 1s - loss: 3781031936.0000 - mae: 43076.2344 - val_loss: 7323921408.0000 - val_mae: 65510.3477\n",
            "Epoch 210/500\n",
            "479/479 - 1s - loss: 3778534144.0000 - mae: 43040.5156 - val_loss: 7357025280.0000 - val_mae: 65671.7344\n",
            "Epoch 211/500\n",
            "479/479 - 1s - loss: 3773141760.0000 - mae: 42927.0078 - val_loss: 7274537984.0000 - val_mae: 65320.4375\n",
            "Epoch 212/500\n",
            "479/479 - 1s - loss: 3771371776.0000 - mae: 43021.1445 - val_loss: 7304893440.0000 - val_mae: 65446.3125\n",
            "Epoch 213/500\n",
            "479/479 - 1s - loss: 3769527040.0000 - mae: 42912.1875 - val_loss: 7272422912.0000 - val_mae: 65353.5586\n",
            "Epoch 214/500\n",
            "479/479 - 1s - loss: 3766635520.0000 - mae: 42963.6797 - val_loss: 7298672640.0000 - val_mae: 65465.7266\n",
            "Epoch 215/500\n",
            "479/479 - 0s - loss: 3763194368.0000 - mae: 42919.3828 - val_loss: 7349656064.0000 - val_mae: 65610.2188\n",
            "Epoch 216/500\n",
            "479/479 - 1s - loss: 3759722752.0000 - mae: 42918.0039 - val_loss: 7386499584.0000 - val_mae: 65787.2969\n",
            "Epoch 217/500\n",
            "479/479 - 1s - loss: 3757003776.0000 - mae: 42761.3906 - val_loss: 7321054208.0000 - val_mae: 65616.6719\n",
            "Epoch 218/500\n",
            "479/479 - 0s - loss: 3754045184.0000 - mae: 42892.6250 - val_loss: 7337070080.0000 - val_mae: 65663.2266\n",
            "Epoch 219/500\n",
            "479/479 - 1s - loss: 3751235840.0000 - mae: 42845.5039 - val_loss: 7358482432.0000 - val_mae: 65675.6875\n",
            "Epoch 220/500\n",
            "479/479 - 1s - loss: 3748116224.0000 - mae: 42781.2578 - val_loss: 7353822720.0000 - val_mae: 65709.2422\n",
            "Epoch 221/500\n",
            "479/479 - 1s - loss: 3744471296.0000 - mae: 42744.1211 - val_loss: 7399539200.0000 - val_mae: 65881.2578\n",
            "Epoch 222/500\n",
            "479/479 - 1s - loss: 3741774080.0000 - mae: 42725.5352 - val_loss: 7359309312.0000 - val_mae: 65736.4453\n",
            "Epoch 223/500\n",
            "479/479 - 1s - loss: 3738862080.0000 - mae: 42772.2422 - val_loss: 7416497664.0000 - val_mae: 65994.2188\n",
            "Epoch 224/500\n",
            "479/479 - 0s - loss: 3736133888.0000 - mae: 42732.5859 - val_loss: 7454382080.0000 - val_mae: 66080.5156\n",
            "Epoch 225/500\n",
            "479/479 - 1s - loss: 3733771264.0000 - mae: 42669.8633 - val_loss: 7372963328.0000 - val_mae: 65813.8281\n",
            "Epoch 226/500\n",
            "479/479 - 1s - loss: 3730732544.0000 - mae: 42654.3359 - val_loss: 7401430528.0000 - val_mae: 65908.2656\n",
            "Epoch 227/500\n",
            "479/479 - 1s - loss: 3727826944.0000 - mae: 42633.7617 - val_loss: 7440352768.0000 - val_mae: 66065.6016\n",
            "Epoch 228/500\n",
            "479/479 - 1s - loss: 3723465216.0000 - mae: 42595.0156 - val_loss: 7413670400.0000 - val_mae: 65994.7422\n",
            "Epoch 229/500\n",
            "479/479 - 1s - loss: 3721033216.0000 - mae: 42621.1406 - val_loss: 7430809600.0000 - val_mae: 66026.9844\n",
            "Epoch 230/500\n",
            "479/479 - 1s - loss: 3718087424.0000 - mae: 42585.5195 - val_loss: 7479362560.0000 - val_mae: 66220.5859\n",
            "Epoch 231/500\n",
            "479/479 - 1s - loss: 3715001856.0000 - mae: 42559.0195 - val_loss: 7484877312.0000 - val_mae: 66250.5234\n",
            "Epoch 232/500\n",
            "479/479 - 1s - loss: 3712201216.0000 - mae: 42559.4844 - val_loss: 7490170368.0000 - val_mae: 66286.9141\n",
            "Epoch 233/500\n",
            "479/479 - 1s - loss: 3709716992.0000 - mae: 42508.9570 - val_loss: 7498638336.0000 - val_mae: 66278.8828\n",
            "Epoch 234/500\n",
            "479/479 - 1s - loss: 3706081536.0000 - mae: 42471.1055 - val_loss: 7523474432.0000 - val_mae: 66352.3281\n",
            "Epoch 235/500\n",
            "479/479 - 1s - loss: 3703413248.0000 - mae: 42504.8242 - val_loss: 7516050944.0000 - val_mae: 66362.6406\n",
            "Epoch 236/500\n",
            "479/479 - 1s - loss: 3700084992.0000 - mae: 42424.1250 - val_loss: 7528057344.0000 - val_mae: 66432.5703\n",
            "Epoch 237/500\n",
            "479/479 - 0s - loss: 3697543424.0000 - mae: 42413.7695 - val_loss: 7526009344.0000 - val_mae: 66428.0391\n",
            "Epoch 238/500\n",
            "479/479 - 1s - loss: 3694962176.0000 - mae: 42427.4688 - val_loss: 7519242752.0000 - val_mae: 66439.0547\n",
            "Epoch 239/500\n",
            "479/479 - 1s - loss: 3692511232.0000 - mae: 42430.2031 - val_loss: 7490815488.0000 - val_mae: 66309.8828\n",
            "Epoch 240/500\n",
            "479/479 - 1s - loss: 3688228864.0000 - mae: 42406.4336 - val_loss: 7576126976.0000 - val_mae: 66597.8984\n",
            "Epoch 241/500\n",
            "479/479 - 1s - loss: 3685711616.0000 - mae: 42313.3906 - val_loss: 7508657664.0000 - val_mae: 66354.6406\n",
            "Epoch 242/500\n",
            "479/479 - 1s - loss: 3683339520.0000 - mae: 42363.1562 - val_loss: 7522721792.0000 - val_mae: 66389.9922\n",
            "Epoch 243/500\n",
            "479/479 - 1s - loss: 3678755840.0000 - mae: 42324.5039 - val_loss: 7541575168.0000 - val_mae: 66487.8438\n",
            "Epoch 244/500\n",
            "479/479 - 1s - loss: 3676954112.0000 - mae: 42281.4844 - val_loss: 7505029120.0000 - val_mae: 66288.7500\n",
            "Epoch 245/500\n",
            "479/479 - 1s - loss: 3675311616.0000 - mae: 42297.4453 - val_loss: 7529061376.0000 - val_mae: 66351.5312\n",
            "Epoch 246/500\n",
            "479/479 - 1s - loss: 3672198144.0000 - mae: 42249.2188 - val_loss: 7527208448.0000 - val_mae: 66376.8047\n",
            "Epoch 247/500\n",
            "479/479 - 1s - loss: 3667761664.0000 - mae: 42228.7500 - val_loss: 7536782336.0000 - val_mae: 66433.9531\n",
            "Epoch 248/500\n",
            "479/479 - 1s - loss: 3665908992.0000 - mae: 42228.2070 - val_loss: 7546180608.0000 - val_mae: 66417.5703\n",
            "Epoch 249/500\n",
            "479/479 - 1s - loss: 3662899712.0000 - mae: 42203.9102 - val_loss: 7568357376.0000 - val_mae: 66512.5312\n",
            "Epoch 250/500\n",
            "479/479 - 1s - loss: 3661836032.0000 - mae: 42208.1016 - val_loss: 7575900160.0000 - val_mae: 66541.5469\n",
            "Epoch 251/500\n",
            "479/479 - 1s - loss: 3658187264.0000 - mae: 42158.0781 - val_loss: 7583229440.0000 - val_mae: 66621.9844\n",
            "Epoch 252/500\n",
            "479/479 - 1s - loss: 3655767040.0000 - mae: 42152.4531 - val_loss: 7623375360.0000 - val_mae: 66731.8906\n",
            "Epoch 253/500\n",
            "479/479 - 1s - loss: 3653646848.0000 - mae: 42112.0469 - val_loss: 7605677568.0000 - val_mae: 66634.8594\n",
            "Epoch 254/500\n",
            "479/479 - 1s - loss: 3650842368.0000 - mae: 42088.1328 - val_loss: 7574927872.0000 - val_mae: 66551.8359\n",
            "Epoch 255/500\n",
            "479/479 - 1s - loss: 3647659776.0000 - mae: 42077.4492 - val_loss: 7539608576.0000 - val_mae: 66458.8984\n",
            "Epoch 256/500\n",
            "479/479 - 1s - loss: 3645067264.0000 - mae: 42066.4961 - val_loss: 7556007424.0000 - val_mae: 66452.4219\n",
            "Epoch 257/500\n",
            "479/479 - 1s - loss: 3642714624.0000 - mae: 42088.8203 - val_loss: 7573696512.0000 - val_mae: 66571.5234\n",
            "Epoch 258/500\n",
            "479/479 - 1s - loss: 3640430592.0000 - mae: 42043.4766 - val_loss: 7539706368.0000 - val_mae: 66419.8594\n",
            "Epoch 259/500\n",
            "479/479 - 1s - loss: 3637997312.0000 - mae: 42003.7383 - val_loss: 7598937088.0000 - val_mae: 66634.7891\n",
            "Epoch 260/500\n",
            "479/479 - 1s - loss: 3635352320.0000 - mae: 41999.2383 - val_loss: 7593220608.0000 - val_mae: 66560.0156\n",
            "Epoch 261/500\n",
            "479/479 - 1s - loss: 3632160512.0000 - mae: 41996.3555 - val_loss: 7608886784.0000 - val_mae: 66652.9219\n",
            "Epoch 262/500\n",
            "479/479 - 1s - loss: 3630084608.0000 - mae: 41934.0586 - val_loss: 7554685440.0000 - val_mae: 66460.6406\n",
            "Epoch 263/500\n",
            "479/479 - 1s - loss: 3627247872.0000 - mae: 41991.8945 - val_loss: 7634315264.0000 - val_mae: 66701.1875\n",
            "Epoch 264/500\n",
            "479/479 - 1s - loss: 3624486912.0000 - mae: 41897.1680 - val_loss: 7574503936.0000 - val_mae: 66575.5547\n",
            "Epoch 265/500\n",
            "479/479 - 1s - loss: 3622538240.0000 - mae: 41916.0078 - val_loss: 7621369856.0000 - val_mae: 66668.8438\n",
            "Epoch 266/500\n",
            "479/479 - 1s - loss: 3620284160.0000 - mae: 41922.3672 - val_loss: 7621757952.0000 - val_mae: 66726.3438\n",
            "Epoch 267/500\n",
            "479/479 - 1s - loss: 3617403136.0000 - mae: 41862.1445 - val_loss: 7565286912.0000 - val_mae: 66510.9297\n",
            "Epoch 268/500\n",
            "479/479 - 1s - loss: 3614753536.0000 - mae: 41880.0039 - val_loss: 7628050944.0000 - val_mae: 66665.0391\n",
            "Epoch 269/500\n",
            "479/479 - 1s - loss: 3613360384.0000 - mae: 41863.1172 - val_loss: 7626308608.0000 - val_mae: 66730.8359\n",
            "Epoch 270/500\n",
            "479/479 - 1s - loss: 3610899456.0000 - mae: 41851.3906 - val_loss: 7606069760.0000 - val_mae: 66637.2969\n",
            "Epoch 271/500\n",
            "479/479 - 0s - loss: 3607348480.0000 - mae: 41812.5195 - val_loss: 7577283584.0000 - val_mae: 66489.4922\n",
            "Epoch 272/500\n",
            "479/479 - 1s - loss: 3606473472.0000 - mae: 41808.9219 - val_loss: 7598493184.0000 - val_mae: 66598.5156\n",
            "Epoch 273/500\n",
            "479/479 - 1s - loss: 3603264256.0000 - mae: 41824.2930 - val_loss: 7606822912.0000 - val_mae: 66652.4844\n",
            "Epoch 274/500\n",
            "479/479 - 1s - loss: 3600830208.0000 - mae: 41740.1211 - val_loss: 7534447104.0000 - val_mae: 66373.5781\n",
            "Epoch 275/500\n",
            "479/479 - 1s - loss: 3598225408.0000 - mae: 41813.8125 - val_loss: 7644372480.0000 - val_mae: 66735.4766\n",
            "Epoch 276/500\n",
            "479/479 - 0s - loss: 3597459712.0000 - mae: 41688.3203 - val_loss: 7572156928.0000 - val_mae: 66533.8359\n",
            "Epoch 277/500\n",
            "479/479 - 1s - loss: 3594529024.0000 - mae: 41745.6914 - val_loss: 7616307712.0000 - val_mae: 66633.1328\n",
            "Epoch 278/500\n",
            "479/479 - 1s - loss: 3591623168.0000 - mae: 41680.8828 - val_loss: 7592091136.0000 - val_mae: 66576.7109\n",
            "Epoch 279/500\n",
            "479/479 - 1s - loss: 3589984768.0000 - mae: 41665.1211 - val_loss: 7568907264.0000 - val_mae: 66479.9688\n",
            "Epoch 280/500\n",
            "479/479 - 1s - loss: 3586903296.0000 - mae: 41664.9180 - val_loss: 7584556032.0000 - val_mae: 66514.7188\n",
            "Epoch 281/500\n",
            "479/479 - 1s - loss: 3584860928.0000 - mae: 41636.2031 - val_loss: 7601166848.0000 - val_mae: 66580.6875\n",
            "Epoch 282/500\n",
            "479/479 - 1s - loss: 3582944512.0000 - mae: 41656.4219 - val_loss: 7622285312.0000 - val_mae: 66577.1875\n",
            "Epoch 283/500\n",
            "479/479 - 1s - loss: 3581522944.0000 - mae: 41593.8711 - val_loss: 7573673984.0000 - val_mae: 66451.2031\n",
            "Epoch 284/500\n",
            "479/479 - 1s - loss: 3578570496.0000 - mae: 41643.2734 - val_loss: 7561799680.0000 - val_mae: 66412.3594\n",
            "Epoch 285/500\n",
            "479/479 - 1s - loss: 3574174464.0000 - mae: 41633.3477 - val_loss: 7610271232.0000 - val_mae: 66569.3047\n",
            "Epoch 286/500\n",
            "479/479 - 1s - loss: 3574419712.0000 - mae: 41523.1562 - val_loss: 7583301632.0000 - val_mae: 66423.5703\n",
            "Epoch 287/500\n",
            "479/479 - 1s - loss: 3571785728.0000 - mae: 41551.0000 - val_loss: 7591419392.0000 - val_mae: 66444.9688\n",
            "Epoch 288/500\n",
            "479/479 - 1s - loss: 3569367040.0000 - mae: 41581.7227 - val_loss: 7617256960.0000 - val_mae: 66565.3828\n",
            "Epoch 289/500\n",
            "479/479 - 1s - loss: 3568233984.0000 - mae: 41482.9844 - val_loss: 7552421888.0000 - val_mae: 66350.7031\n",
            "Epoch 290/500\n",
            "479/479 - 1s - loss: 3564134144.0000 - mae: 41524.8359 - val_loss: 7581274624.0000 - val_mae: 66417.9531\n",
            "Epoch 291/500\n",
            "479/479 - 1s - loss: 3564009216.0000 - mae: 41505.8516 - val_loss: 7639958016.0000 - val_mae: 66651.7344\n",
            "Epoch 292/500\n",
            "479/479 - 1s - loss: 3558698496.0000 - mae: 41465.6016 - val_loss: 7527558656.0000 - val_mae: 66194.8438\n",
            "Epoch 293/500\n",
            "479/479 - 1s - loss: 3559098368.0000 - mae: 41496.5586 - val_loss: 7545169920.0000 - val_mae: 66321.5234\n",
            "Epoch 294/500\n",
            "479/479 - 1s - loss: 3557231872.0000 - mae: 41476.8672 - val_loss: 7576321024.0000 - val_mae: 66391.4141\n",
            "Epoch 295/500\n",
            "479/479 - 1s - loss: 3554623488.0000 - mae: 41402.4180 - val_loss: 7531720704.0000 - val_mae: 66245.7109\n",
            "Epoch 296/500\n",
            "479/479 - 1s - loss: 3552295424.0000 - mae: 41424.8242 - val_loss: 7546996736.0000 - val_mae: 66288.5625\n",
            "Epoch 297/500\n",
            "479/479 - 1s - loss: 3550542592.0000 - mae: 41418.3906 - val_loss: 7548338176.0000 - val_mae: 66323.3203\n",
            "Epoch 298/500\n",
            "479/479 - 1s - loss: 3548768768.0000 - mae: 41388.2930 - val_loss: 7516124672.0000 - val_mae: 66194.8984\n",
            "Epoch 299/500\n",
            "479/479 - 1s - loss: 3545589248.0000 - mae: 41379.5078 - val_loss: 7501107712.0000 - val_mae: 66180.7109\n",
            "Epoch 300/500\n",
            "479/479 - 1s - loss: 3543706880.0000 - mae: 41389.6328 - val_loss: 7506572800.0000 - val_mae: 66120.7344\n",
            "Epoch 301/500\n",
            "479/479 - 1s - loss: 3541226240.0000 - mae: 41334.9531 - val_loss: 7520519168.0000 - val_mae: 66167.2109\n",
            "Epoch 302/500\n",
            "479/479 - 1s - loss: 3539458048.0000 - mae: 41357.4805 - val_loss: 7535676416.0000 - val_mae: 66236.3438\n",
            "Epoch 303/500\n",
            "479/479 - 1s - loss: 3537474048.0000 - mae: 41302.9844 - val_loss: 7516293120.0000 - val_mae: 66155.0156\n",
            "Epoch 304/500\n",
            "479/479 - 1s - loss: 3536202752.0000 - mae: 41298.9453 - val_loss: 7500975616.0000 - val_mae: 66096.7266\n",
            "Epoch 305/500\n",
            "479/479 - 1s - loss: 3532167680.0000 - mae: 41338.3398 - val_loss: 7520555520.0000 - val_mae: 66164.5156\n",
            "Epoch 306/500\n",
            "479/479 - 1s - loss: 3531935744.0000 - mae: 41264.8125 - val_loss: 7495663104.0000 - val_mae: 66077.4375\n",
            "Epoch 307/500\n",
            "479/479 - 1s - loss: 3527636224.0000 - mae: 41233.0430 - val_loss: 7439477760.0000 - val_mae: 65884.9766\n",
            "Epoch 308/500\n",
            "479/479 - 1s - loss: 3525959936.0000 - mae: 41224.0781 - val_loss: 7508116992.0000 - val_mae: 66123.9062\n",
            "Epoch 309/500\n",
            "479/479 - 1s - loss: 3524615168.0000 - mae: 41232.3750 - val_loss: 7460552192.0000 - val_mae: 65964.4766\n",
            "Epoch 310/500\n",
            "479/479 - 1s - loss: 3523257344.0000 - mae: 41189.4727 - val_loss: 7448386048.0000 - val_mae: 65925.5078\n",
            "Epoch 311/500\n",
            "479/479 - 1s - loss: 3521314816.0000 - mae: 41247.5547 - val_loss: 7468589056.0000 - val_mae: 65935.4453\n",
            "Epoch 312/500\n",
            "479/479 - 1s - loss: 3518566656.0000 - mae: 41189.3359 - val_loss: 7482153472.0000 - val_mae: 66041.8281\n",
            "Epoch 313/500\n",
            "479/479 - 1s - loss: 3516615680.0000 - mae: 41133.2031 - val_loss: 7458123264.0000 - val_mae: 65894.8594\n",
            "Epoch 314/500\n",
            "479/479 - 1s - loss: 3514944512.0000 - mae: 41176.3672 - val_loss: 7468040704.0000 - val_mae: 65922.2578\n",
            "Epoch 315/500\n",
            "479/479 - 1s - loss: 3512045312.0000 - mae: 41150.9570 - val_loss: 7489441280.0000 - val_mae: 65986.4375\n",
            "Epoch 316/500\n",
            "479/479 - 1s - loss: 3510692864.0000 - mae: 41078.1328 - val_loss: 7392350208.0000 - val_mae: 65698.6875\n",
            "Epoch 317/500\n",
            "479/479 - 1s - loss: 3508607744.0000 - mae: 41125.0039 - val_loss: 7394509312.0000 - val_mae: 65627.1797\n",
            "Epoch 318/500\n",
            "479/479 - 1s - loss: 3507136768.0000 - mae: 41109.3750 - val_loss: 7394139136.0000 - val_mae: 65692.2891\n",
            "Epoch 319/500\n",
            "479/479 - 1s - loss: 3505128192.0000 - mae: 41107.8945 - val_loss: 7441944576.0000 - val_mae: 65801.2734\n",
            "Epoch 320/500\n",
            "479/479 - 1s - loss: 3501921280.0000 - mae: 41016.0078 - val_loss: 7413688320.0000 - val_mae: 65742.7891\n",
            "Epoch 321/500\n",
            "479/479 - 1s - loss: 3501951232.0000 - mae: 41128.9023 - val_loss: 7404528128.0000 - val_mae: 65654.1562\n",
            "Epoch 322/500\n",
            "479/479 - 1s - loss: 3498427392.0000 - mae: 41052.1641 - val_loss: 7402149888.0000 - val_mae: 65680.7188\n",
            "Epoch 323/500\n",
            "479/479 - 1s - loss: 3497241600.0000 - mae: 41013.7656 - val_loss: 7374473216.0000 - val_mae: 65627.4766\n",
            "Epoch 324/500\n",
            "479/479 - 1s - loss: 3494367232.0000 - mae: 41065.6602 - val_loss: 7457403392.0000 - val_mae: 65801.4141\n",
            "Epoch 325/500\n",
            "479/479 - 1s - loss: 3493845760.0000 - mae: 40980.6758 - val_loss: 7392003584.0000 - val_mae: 65636.9844\n",
            "Epoch 326/500\n",
            "479/479 - 1s - loss: 3489769984.0000 - mae: 40970.0898 - val_loss: 7343275008.0000 - val_mae: 65394.7734\n",
            "Epoch 327/500\n",
            "479/479 - 1s - loss: 3488106240.0000 - mae: 40989.9531 - val_loss: 7398005248.0000 - val_mae: 65613.7578\n",
            "Epoch 328/500\n",
            "479/479 - 1s - loss: 3487065344.0000 - mae: 40998.9062 - val_loss: 7391535616.0000 - val_mae: 65596.2188\n",
            "Epoch 329/500\n",
            "479/479 - 1s - loss: 3485880320.0000 - mae: 40919.0820 - val_loss: 7301202432.0000 - val_mae: 65279.3477\n",
            "Epoch 330/500\n",
            "479/479 - 1s - loss: 3483352832.0000 - mae: 40971.6992 - val_loss: 7325430784.0000 - val_mae: 65341.6406\n",
            "Epoch 331/500\n",
            "479/479 - 1s - loss: 3481102336.0000 - mae: 40935.4492 - val_loss: 7311697408.0000 - val_mae: 65311.6367\n",
            "Epoch 332/500\n",
            "479/479 - 1s - loss: 3480377600.0000 - mae: 40893.6211 - val_loss: 7324716032.0000 - val_mae: 65348.7031\n",
            "Epoch 333/500\n",
            "479/479 - 1s - loss: 3477500160.0000 - mae: 40903.6484 - val_loss: 7289481216.0000 - val_mae: 65203.6484\n",
            "Epoch 334/500\n",
            "479/479 - 1s - loss: 3476016384.0000 - mae: 40911.9844 - val_loss: 7309845504.0000 - val_mae: 65215.6719\n",
            "Epoch 335/500\n",
            "479/479 - 1s - loss: 3474730240.0000 - mae: 40851.4609 - val_loss: 7293179904.0000 - val_mae: 65126.1367\n",
            "Epoch 336/500\n",
            "479/479 - 1s - loss: 3472295168.0000 - mae: 40863.6016 - val_loss: 7255090176.0000 - val_mae: 65018.6758\n",
            "Epoch 337/500\n",
            "479/479 - 1s - loss: 3471824896.0000 - mae: 40875.3398 - val_loss: 7277289984.0000 - val_mae: 65137.7852\n",
            "Epoch 338/500\n",
            "479/479 - 1s - loss: 3468676096.0000 - mae: 40824.1992 - val_loss: 7254853120.0000 - val_mae: 65032.4180\n",
            "Epoch 339/500\n",
            "479/479 - 1s - loss: 3466676736.0000 - mae: 40837.8008 - val_loss: 7271379968.0000 - val_mae: 65074.2383\n",
            "Epoch 340/500\n",
            "479/479 - 1s - loss: 3464520448.0000 - mae: 40775.9336 - val_loss: 7230994944.0000 - val_mae: 64971.1445\n",
            "Epoch 341/500\n",
            "479/479 - 1s - loss: 3462851584.0000 - mae: 40815.8906 - val_loss: 7220453376.0000 - val_mae: 64966.2852\n",
            "Epoch 342/500\n",
            "479/479 - 1s - loss: 3461432064.0000 - mae: 40772.0273 - val_loss: 7213616128.0000 - val_mae: 64916.6484\n",
            "Epoch 343/500\n",
            "479/479 - 1s - loss: 3458686720.0000 - mae: 40743.0156 - val_loss: 7218393600.0000 - val_mae: 64917.9609\n",
            "Epoch 344/500\n",
            "479/479 - 1s - loss: 3457288704.0000 - mae: 40771.3008 - val_loss: 7201397248.0000 - val_mae: 64895.0117\n",
            "Epoch 345/500\n",
            "479/479 - 1s - loss: 3455270912.0000 - mae: 40768.2148 - val_loss: 7260092928.0000 - val_mae: 65062.6914\n",
            "Epoch 346/500\n",
            "479/479 - 1s - loss: 3453617664.0000 - mae: 40722.9492 - val_loss: 7234664448.0000 - val_mae: 64988.0469\n",
            "Epoch 347/500\n",
            "479/479 - 1s - loss: 3451798272.0000 - mae: 40720.8438 - val_loss: 7219402752.0000 - val_mae: 64894.2578\n",
            "Epoch 348/500\n",
            "479/479 - 1s - loss: 3449682944.0000 - mae: 40702.8789 - val_loss: 7200180736.0000 - val_mae: 64825.6172\n",
            "Epoch 349/500\n",
            "479/479 - 1s - loss: 3448126720.0000 - mae: 40689.7266 - val_loss: 7202497536.0000 - val_mae: 64768.5039\n",
            "Epoch 350/500\n",
            "479/479 - 1s - loss: 3445299712.0000 - mae: 40643.1562 - val_loss: 7180692992.0000 - val_mae: 64843.3789\n",
            "Epoch 351/500\n",
            "479/479 - 1s - loss: 3443044864.0000 - mae: 40679.7969 - val_loss: 7224173568.0000 - val_mae: 64862.7422\n",
            "Epoch 352/500\n",
            "479/479 - 1s - loss: 3442642688.0000 - mae: 40671.5547 - val_loss: 7214693888.0000 - val_mae: 64917.6406\n",
            "Epoch 353/500\n",
            "479/479 - 1s - loss: 3440089344.0000 - mae: 40608.8945 - val_loss: 7162037248.0000 - val_mae: 64678.7344\n",
            "Epoch 354/500\n",
            "479/479 - 1s - loss: 3439051264.0000 - mae: 40637.5352 - val_loss: 7182939648.0000 - val_mae: 64750.8477\n",
            "Epoch 355/500\n",
            "479/479 - 1s - loss: 3436521984.0000 - mae: 40616.0547 - val_loss: 7167664128.0000 - val_mae: 64729.1562\n",
            "Epoch 356/500\n",
            "479/479 - 1s - loss: 3434566912.0000 - mae: 40609.9375 - val_loss: 7187329536.0000 - val_mae: 64814.6953\n",
            "Epoch 357/500\n",
            "479/479 - 1s - loss: 3432934656.0000 - mae: 40568.1836 - val_loss: 7187337728.0000 - val_mae: 64788.0195\n",
            "Epoch 358/500\n",
            "479/479 - 1s - loss: 3429817088.0000 - mae: 40594.0938 - val_loss: 7218599424.0000 - val_mae: 64891.9102\n",
            "Epoch 359/500\n",
            "479/479 - 1s - loss: 3428933888.0000 - mae: 40567.8867 - val_loss: 7187448832.0000 - val_mae: 64802.9453\n",
            "Epoch 360/500\n",
            "479/479 - 1s - loss: 3426772736.0000 - mae: 40547.1055 - val_loss: 7161349120.0000 - val_mae: 64646.0625\n",
            "Epoch 361/500\n",
            "479/479 - 1s - loss: 3424899840.0000 - mae: 40533.0273 - val_loss: 7136441344.0000 - val_mae: 64605.5938\n",
            "Epoch 362/500\n",
            "479/479 - 1s - loss: 3423389440.0000 - mae: 40538.2266 - val_loss: 7163886080.0000 - val_mae: 64694.4805\n",
            "Epoch 363/500\n",
            "479/479 - 1s - loss: 3421001728.0000 - mae: 40522.9570 - val_loss: 7195381760.0000 - val_mae: 64739.5234\n",
            "Epoch 364/500\n",
            "479/479 - 1s - loss: 3419703808.0000 - mae: 40475.6680 - val_loss: 7142981120.0000 - val_mae: 64598.3203\n",
            "Epoch 365/500\n",
            "479/479 - 1s - loss: 3418179328.0000 - mae: 40500.6445 - val_loss: 7139459584.0000 - val_mae: 64581.5234\n",
            "Epoch 366/500\n",
            "479/479 - 0s - loss: 3415942400.0000 - mae: 40457.9922 - val_loss: 7132453888.0000 - val_mae: 64609.2578\n",
            "Epoch 367/500\n",
            "479/479 - 1s - loss: 3414311168.0000 - mae: 40442.0000 - val_loss: 7105965056.0000 - val_mae: 64522.7578\n",
            "Epoch 368/500\n",
            "479/479 - 1s - loss: 3412558080.0000 - mae: 40464.2500 - val_loss: 7135887360.0000 - val_mae: 64640.5664\n",
            "Epoch 369/500\n",
            "479/479 - 1s - loss: 3411041024.0000 - mae: 40455.8047 - val_loss: 7113666048.0000 - val_mae: 64521.0430\n",
            "Epoch 370/500\n",
            "479/479 - 0s - loss: 3408758272.0000 - mae: 40418.9141 - val_loss: 7106067968.0000 - val_mae: 64423.1641\n",
            "Epoch 371/500\n",
            "479/479 - 1s - loss: 3406995456.0000 - mae: 40417.1445 - val_loss: 7115652608.0000 - val_mae: 64544.4102\n",
            "Epoch 372/500\n",
            "479/479 - 1s - loss: 3405461504.0000 - mae: 40407.5352 - val_loss: 7105211392.0000 - val_mae: 64514.2930\n",
            "Epoch 373/500\n",
            "479/479 - 1s - loss: 3403438592.0000 - mae: 40385.8320 - val_loss: 7098894848.0000 - val_mae: 64525.2500\n",
            "Epoch 374/500\n",
            "479/479 - 1s - loss: 3401861888.0000 - mae: 40393.9102 - val_loss: 7124380672.0000 - val_mae: 64557.4062\n",
            "Epoch 375/500\n",
            "479/479 - 1s - loss: 3399054336.0000 - mae: 40442.6211 - val_loss: 7125460480.0000 - val_mae: 64509.7891\n",
            "Epoch 376/500\n",
            "479/479 - 1s - loss: 3398049024.0000 - mae: 40321.0039 - val_loss: 7079027712.0000 - val_mae: 64381.8320\n",
            "Epoch 377/500\n",
            "479/479 - 1s - loss: 3395363840.0000 - mae: 40361.1992 - val_loss: 7116240384.0000 - val_mae: 64550.0781\n",
            "Epoch 378/500\n",
            "479/479 - 1s - loss: 3394837504.0000 - mae: 40323.5977 - val_loss: 7081336832.0000 - val_mae: 64408.1992\n",
            "Epoch 379/500\n",
            "479/479 - 1s - loss: 3392149504.0000 - mae: 40341.4766 - val_loss: 7127248384.0000 - val_mae: 64547.4727\n",
            "Epoch 380/500\n",
            "479/479 - 1s - loss: 3390370304.0000 - mae: 40306.7656 - val_loss: 7060450304.0000 - val_mae: 64352.1406\n",
            "Epoch 381/500\n",
            "479/479 - 1s - loss: 3389325824.0000 - mae: 40309.7227 - val_loss: 7091357184.0000 - val_mae: 64387.0859\n",
            "Epoch 382/500\n",
            "479/479 - 1s - loss: 3387340288.0000 - mae: 40308.3594 - val_loss: 7059275776.0000 - val_mae: 64366.6289\n",
            "Epoch 383/500\n",
            "479/479 - 1s - loss: 3386120448.0000 - mae: 40257.1602 - val_loss: 7080695296.0000 - val_mae: 64410.2969\n",
            "Epoch 384/500\n",
            "479/479 - 1s - loss: 3384614144.0000 - mae: 40260.5039 - val_loss: 7044140032.0000 - val_mae: 64283.6484\n",
            "Epoch 385/500\n",
            "479/479 - 1s - loss: 3383056896.0000 - mae: 40239.6094 - val_loss: 7035891200.0000 - val_mae: 64245.6875\n",
            "Epoch 386/500\n",
            "479/479 - 1s - loss: 3380704000.0000 - mae: 40281.8867 - val_loss: 7061851136.0000 - val_mae: 64300.2617\n",
            "Epoch 387/500\n",
            "479/479 - 1s - loss: 3378729216.0000 - mae: 40214.5039 - val_loss: 7060942336.0000 - val_mae: 64344.2500\n",
            "Epoch 388/500\n",
            "479/479 - 1s - loss: 3377326848.0000 - mae: 40244.6172 - val_loss: 7071166464.0000 - val_mae: 64335.5586\n",
            "Epoch 389/500\n",
            "479/479 - 1s - loss: 3375526144.0000 - mae: 40207.2188 - val_loss: 7087087616.0000 - val_mae: 64377.5469\n",
            "Epoch 390/500\n",
            "479/479 - 1s - loss: 3373111296.0000 - mae: 40186.5000 - val_loss: 7063940608.0000 - val_mae: 64295.5625\n",
            "Epoch 391/500\n",
            "479/479 - 1s - loss: 3371953664.0000 - mae: 40170.0938 - val_loss: 7032755200.0000 - val_mae: 64286.9180\n",
            "Epoch 392/500\n",
            "479/479 - 1s - loss: 3370029568.0000 - mae: 40181.6484 - val_loss: 7082829312.0000 - val_mae: 64405.8906\n",
            "Epoch 393/500\n",
            "479/479 - 1s - loss: 3368722176.0000 - mae: 40125.8828 - val_loss: 7055741952.0000 - val_mae: 64361.6016\n",
            "Epoch 394/500\n",
            "479/479 - 1s - loss: 3367030272.0000 - mae: 40159.4102 - val_loss: 7023800832.0000 - val_mae: 64194.4688\n",
            "Epoch 395/500\n",
            "479/479 - 1s - loss: 3364232448.0000 - mae: 40140.2227 - val_loss: 7063515648.0000 - val_mae: 64276.8125\n",
            "Epoch 396/500\n",
            "479/479 - 1s - loss: 3363138816.0000 - mae: 40141.8633 - val_loss: 7078213120.0000 - val_mae: 64339.5117\n",
            "Epoch 397/500\n",
            "479/479 - 1s - loss: 3362534400.0000 - mae: 40081.2188 - val_loss: 7041297408.0000 - val_mae: 64253.3477\n",
            "Epoch 398/500\n",
            "479/479 - 1s - loss: 3359073024.0000 - mae: 40111.6328 - val_loss: 7065192448.0000 - val_mae: 64377.9102\n",
            "Epoch 399/500\n",
            "479/479 - 0s - loss: 3358705152.0000 - mae: 40079.3594 - val_loss: 7000661504.0000 - val_mae: 64131.1094\n",
            "Epoch 400/500\n",
            "479/479 - 1s - loss: 3356611840.0000 - mae: 40082.3555 - val_loss: 7057087488.0000 - val_mae: 64255.4922\n",
            "Epoch 401/500\n",
            "479/479 - 1s - loss: 3354770688.0000 - mae: 40079.3516 - val_loss: 7053726208.0000 - val_mae: 64207.6641\n",
            "Epoch 402/500\n",
            "479/479 - 1s - loss: 3351783680.0000 - mae: 40015.5977 - val_loss: 7020012032.0000 - val_mae: 64175.9844\n",
            "Epoch 403/500\n",
            "479/479 - 1s - loss: 3349798144.0000 - mae: 40028.5078 - val_loss: 7045756928.0000 - val_mae: 64307.2344\n",
            "Epoch 404/500\n",
            "479/479 - 1s - loss: 3347701504.0000 - mae: 40021.3867 - val_loss: 7015004160.0000 - val_mae: 64188.5039\n",
            "Epoch 405/500\n",
            "479/479 - 1s - loss: 3346365952.0000 - mae: 40023.7969 - val_loss: 6975281664.0000 - val_mae: 64095.2930\n",
            "Epoch 406/500\n",
            "479/479 - 1s - loss: 3345973504.0000 - mae: 40015.3438 - val_loss: 6995222016.0000 - val_mae: 64123.2812\n",
            "Epoch 407/500\n",
            "479/479 - 1s - loss: 3344899584.0000 - mae: 39984.8203 - val_loss: 7014346240.0000 - val_mae: 64190.4062\n",
            "Epoch 408/500\n",
            "479/479 - 1s - loss: 3342300672.0000 - mae: 39972.6484 - val_loss: 7034857984.0000 - val_mae: 64307.7227\n",
            "Epoch 409/500\n",
            "479/479 - 1s - loss: 3341314816.0000 - mae: 39985.0195 - val_loss: 7008350208.0000 - val_mae: 64250.2266\n",
            "Epoch 410/500\n",
            "479/479 - 1s - loss: 3338373632.0000 - mae: 39983.4062 - val_loss: 7045838336.0000 - val_mae: 64355.4336\n",
            "Epoch 411/500\n",
            "479/479 - 1s - loss: 3336743424.0000 - mae: 39925.1484 - val_loss: 7014988288.0000 - val_mae: 64177.7617\n",
            "Epoch 412/500\n",
            "479/479 - 1s - loss: 3335601408.0000 - mae: 39931.0430 - val_loss: 6986833920.0000 - val_mae: 64006.0039\n",
            "Epoch 413/500\n",
            "479/479 - 1s - loss: 3334863104.0000 - mae: 39924.2695 - val_loss: 7001073152.0000 - val_mae: 64139.1719\n",
            "Epoch 414/500\n",
            "479/479 - 1s - loss: 3332486912.0000 - mae: 39918.4883 - val_loss: 6976975360.0000 - val_mae: 64086.1992\n",
            "Epoch 415/500\n",
            "479/479 - 1s - loss: 3330601472.0000 - mae: 39904.5352 - val_loss: 6964190208.0000 - val_mae: 64003.8398\n",
            "Epoch 416/500\n",
            "479/479 - 1s - loss: 3329457664.0000 - mae: 39894.8633 - val_loss: 7001361920.0000 - val_mae: 64155.5352\n",
            "Epoch 417/500\n",
            "479/479 - 1s - loss: 3327311104.0000 - mae: 39875.2422 - val_loss: 7016034816.0000 - val_mae: 64159.4648\n",
            "Epoch 418/500\n",
            "479/479 - 1s - loss: 3325797888.0000 - mae: 39854.4609 - val_loss: 7004451840.0000 - val_mae: 64088.2695\n",
            "Epoch 419/500\n",
            "479/479 - 0s - loss: 3324387072.0000 - mae: 39872.9102 - val_loss: 7000381440.0000 - val_mae: 64104.3867\n",
            "Epoch 420/500\n",
            "479/479 - 1s - loss: 3321714176.0000 - mae: 39853.8008 - val_loss: 6981897728.0000 - val_mae: 64168.9023\n",
            "Epoch 421/500\n",
            "479/479 - 1s - loss: 3321259008.0000 - mae: 39832.8047 - val_loss: 7021561344.0000 - val_mae: 64189.4336\n",
            "Epoch 422/500\n",
            "479/479 - 1s - loss: 3319611392.0000 - mae: 39832.2852 - val_loss: 7027867648.0000 - val_mae: 64205.0039\n",
            "Epoch 423/500\n",
            "479/479 - 1s - loss: 3317060352.0000 - mae: 39791.0156 - val_loss: 7007286784.0000 - val_mae: 64080.2266\n",
            "Epoch 424/500\n",
            "479/479 - 1s - loss: 3315512832.0000 - mae: 39799.8398 - val_loss: 6975997952.0000 - val_mae: 63984.7500\n",
            "Epoch 425/500\n",
            "479/479 - 1s - loss: 3314446848.0000 - mae: 39784.2383 - val_loss: 6966782976.0000 - val_mae: 64048.4844\n",
            "Epoch 426/500\n",
            "479/479 - 1s - loss: 3312471296.0000 - mae: 39769.3164 - val_loss: 6942692864.0000 - val_mae: 64014.7422\n",
            "Epoch 427/500\n",
            "479/479 - 1s - loss: 3310666752.0000 - mae: 39761.6016 - val_loss: 6970143232.0000 - val_mae: 64068.9219\n",
            "Epoch 428/500\n",
            "479/479 - 1s - loss: 3309672960.0000 - mae: 39780.0586 - val_loss: 6990557696.0000 - val_mae: 64070.9023\n",
            "Epoch 429/500\n",
            "479/479 - 1s - loss: 3307035904.0000 - mae: 39755.2188 - val_loss: 7005826048.0000 - val_mae: 64063.5234\n",
            "Epoch 430/500\n",
            "479/479 - 1s - loss: 3306585344.0000 - mae: 39739.3516 - val_loss: 6948996608.0000 - val_mae: 63932.1211\n",
            "Epoch 431/500\n",
            "479/479 - 1s - loss: 3304320768.0000 - mae: 39722.7344 - val_loss: 6961145856.0000 - val_mae: 64010.8477\n",
            "Epoch 432/500\n",
            "479/479 - 1s - loss: 3302584320.0000 - mae: 39702.7227 - val_loss: 7003105280.0000 - val_mae: 64152.0508\n",
            "Epoch 433/500\n",
            "479/479 - 1s - loss: 3301006080.0000 - mae: 39716.2969 - val_loss: 6970091520.0000 - val_mae: 64018.3438\n",
            "Epoch 434/500\n",
            "479/479 - 1s - loss: 3298032384.0000 - mae: 39703.3555 - val_loss: 6962161664.0000 - val_mae: 63999.4688\n",
            "Epoch 435/500\n",
            "479/479 - 1s - loss: 3298590976.0000 - mae: 39720.6875 - val_loss: 6978715648.0000 - val_mae: 63992.8477\n",
            "Epoch 436/500\n",
            "479/479 - 1s - loss: 3296907008.0000 - mae: 39650.4375 - val_loss: 6960734720.0000 - val_mae: 63959.0586\n",
            "Epoch 437/500\n",
            "479/479 - 1s - loss: 3294617856.0000 - mae: 39651.8047 - val_loss: 6910169088.0000 - val_mae: 63870.9102\n",
            "Epoch 438/500\n",
            "479/479 - 1s - loss: 3294002176.0000 - mae: 39697.7461 - val_loss: 6937433600.0000 - val_mae: 63886.0039\n",
            "Epoch 439/500\n",
            "479/479 - 1s - loss: 3292144640.0000 - mae: 39633.7773 - val_loss: 6914416640.0000 - val_mae: 63912.5117\n",
            "Epoch 440/500\n",
            "479/479 - 1s - loss: 3290192896.0000 - mae: 39643.4219 - val_loss: 6969019392.0000 - val_mae: 64133.1484\n",
            "Epoch 441/500\n",
            "479/479 - 1s - loss: 3288462592.0000 - mae: 39625.6055 - val_loss: 6960311808.0000 - val_mae: 64106.7070\n",
            "Epoch 442/500\n",
            "479/479 - 0s - loss: 3286466048.0000 - mae: 39642.8086 - val_loss: 6999849472.0000 - val_mae: 64189.8320\n",
            "Epoch 443/500\n",
            "479/479 - 1s - loss: 3284116992.0000 - mae: 39602.5547 - val_loss: 6945660928.0000 - val_mae: 63965.0195\n",
            "Epoch 444/500\n",
            "479/479 - 1s - loss: 3282049792.0000 - mae: 39621.1328 - val_loss: 6946620416.0000 - val_mae: 63933.3516\n",
            "Epoch 445/500\n",
            "479/479 - 1s - loss: 3282413312.0000 - mae: 39573.6953 - val_loss: 6902758400.0000 - val_mae: 63829.4883\n",
            "Epoch 446/500\n",
            "479/479 - 1s - loss: 3280221440.0000 - mae: 39577.4336 - val_loss: 6931901952.0000 - val_mae: 63880.4648\n",
            "Epoch 447/500\n",
            "479/479 - 1s - loss: 3278394112.0000 - mae: 39584.8438 - val_loss: 6929090048.0000 - val_mae: 63861.9336\n",
            "Epoch 448/500\n",
            "479/479 - 1s - loss: 3278468864.0000 - mae: 39541.8789 - val_loss: 6891689472.0000 - val_mae: 63753.9531\n",
            "Epoch 449/500\n",
            "479/479 - 1s - loss: 3276303872.0000 - mae: 39518.1289 - val_loss: 6871874048.0000 - val_mae: 63708.4766\n",
            "Epoch 450/500\n",
            "479/479 - 1s - loss: 3274629632.0000 - mae: 39578.9922 - val_loss: 6927903232.0000 - val_mae: 63892.1992\n",
            "Epoch 451/500\n",
            "479/479 - 1s - loss: 3271747328.0000 - mae: 39510.3945 - val_loss: 6894809088.0000 - val_mae: 63768.9883\n",
            "Epoch 452/500\n",
            "479/479 - 1s - loss: 3271171840.0000 - mae: 39493.0586 - val_loss: 6903822336.0000 - val_mae: 63815.0508\n",
            "Epoch 453/500\n",
            "479/479 - 1s - loss: 3269814784.0000 - mae: 39538.0938 - val_loss: 6936255488.0000 - val_mae: 63796.5703\n",
            "Epoch 454/500\n",
            "479/479 - 1s - loss: 3267593728.0000 - mae: 39504.3477 - val_loss: 6910217728.0000 - val_mae: 63751.1875\n",
            "Epoch 455/500\n",
            "479/479 - 1s - loss: 3266531840.0000 - mae: 39479.4648 - val_loss: 6904165888.0000 - val_mae: 63758.4102\n",
            "Epoch 456/500\n",
            "479/479 - 1s - loss: 3265273088.0000 - mae: 39507.9180 - val_loss: 6937573888.0000 - val_mae: 63818.3672\n",
            "Epoch 457/500\n",
            "479/479 - 0s - loss: 3263132672.0000 - mae: 39425.9375 - val_loss: 6896385536.0000 - val_mae: 63822.9688\n",
            "Epoch 458/500\n",
            "479/479 - 1s - loss: 3261487616.0000 - mae: 39438.5703 - val_loss: 6896816128.0000 - val_mae: 63685.7969\n",
            "Epoch 459/500\n",
            "479/479 - 1s - loss: 3259793408.0000 - mae: 39425.2383 - val_loss: 6859457536.0000 - val_mae: 63627.3555\n",
            "Epoch 460/500\n",
            "479/479 - 1s - loss: 3258991872.0000 - mae: 39443.9414 - val_loss: 6890109440.0000 - val_mae: 63745.6406\n",
            "Epoch 461/500\n",
            "479/479 - 1s - loss: 3257189120.0000 - mae: 39440.3438 - val_loss: 6898024960.0000 - val_mae: 63677.1328\n",
            "Epoch 462/500\n",
            "479/479 - 1s - loss: 3255171840.0000 - mae: 39381.7891 - val_loss: 6905438208.0000 - val_mae: 63739.3867\n",
            "Epoch 463/500\n",
            "479/479 - 1s - loss: 3253927680.0000 - mae: 39409.1133 - val_loss: 6904220160.0000 - val_mae: 63788.2344\n",
            "Epoch 464/500\n",
            "479/479 - 1s - loss: 3252811264.0000 - mae: 39393.8867 - val_loss: 6868077056.0000 - val_mae: 63620.7656\n",
            "Epoch 465/500\n",
            "479/479 - 1s - loss: 3251388928.0000 - mae: 39405.0078 - val_loss: 6911468032.0000 - val_mae: 63651.6172\n",
            "Epoch 466/500\n",
            "479/479 - 1s - loss: 3249004032.0000 - mae: 39340.4844 - val_loss: 6880530432.0000 - val_mae: 63605.4219\n",
            "Epoch 467/500\n",
            "479/479 - 1s - loss: 3247490048.0000 - mae: 39350.8477 - val_loss: 6873392128.0000 - val_mae: 63665.9062\n",
            "Epoch 468/500\n",
            "479/479 - 1s - loss: 3245181184.0000 - mae: 39337.7734 - val_loss: 6930488832.0000 - val_mae: 63814.9609\n",
            "Epoch 469/500\n",
            "479/479 - 1s - loss: 3244825344.0000 - mae: 39334.3320 - val_loss: 6902075904.0000 - val_mae: 63684.8008\n",
            "Epoch 470/500\n",
            "479/479 - 1s - loss: 3243384320.0000 - mae: 39320.4102 - val_loss: 6865340416.0000 - val_mae: 63573.2500\n",
            "Epoch 471/500\n",
            "479/479 - 1s - loss: 3241830656.0000 - mae: 39334.5508 - val_loss: 6881494528.0000 - val_mae: 63707.2227\n",
            "Epoch 472/500\n",
            "479/479 - 1s - loss: 3239378432.0000 - mae: 39322.7578 - val_loss: 6884732928.0000 - val_mae: 63629.1484\n",
            "Epoch 473/500\n",
            "479/479 - 1s - loss: 3238050816.0000 - mae: 39279.0117 - val_loss: 6878235648.0000 - val_mae: 63653.4219\n",
            "Epoch 474/500\n",
            "479/479 - 1s - loss: 3237421056.0000 - mae: 39280.0742 - val_loss: 6852450304.0000 - val_mae: 63577.3516\n",
            "Epoch 475/500\n",
            "479/479 - 1s - loss: 3235406848.0000 - mae: 39296.8828 - val_loss: 6875383296.0000 - val_mae: 63596.3828\n",
            "Epoch 476/500\n",
            "479/479 - 1s - loss: 3233996288.0000 - mae: 39291.4961 - val_loss: 6864776192.0000 - val_mae: 63543.6250\n",
            "Epoch 477/500\n",
            "479/479 - 1s - loss: 3231920128.0000 - mae: 39247.2539 - val_loss: 6873056768.0000 - val_mae: 63602.3398\n",
            "Epoch 478/500\n",
            "479/479 - 1s - loss: 3231056384.0000 - mae: 39228.8008 - val_loss: 6817153536.0000 - val_mae: 63463.0156\n",
            "Epoch 479/500\n",
            "479/479 - 1s - loss: 3228905472.0000 - mae: 39255.6133 - val_loss: 6883500032.0000 - val_mae: 63616.6250\n",
            "Epoch 480/500\n",
            "479/479 - 1s - loss: 3227757056.0000 - mae: 39198.6445 - val_loss: 6839716352.0000 - val_mae: 63535.6797\n",
            "Epoch 481/500\n",
            "479/479 - 1s - loss: 3225969152.0000 - mae: 39225.6836 - val_loss: 6874953216.0000 - val_mae: 63656.0000\n",
            "Epoch 482/500\n",
            "479/479 - 1s - loss: 3224423168.0000 - mae: 39208.8750 - val_loss: 6854555136.0000 - val_mae: 63615.3750\n",
            "Epoch 483/500\n",
            "479/479 - 1s - loss: 3223039232.0000 - mae: 39179.5508 - val_loss: 6845064192.0000 - val_mae: 63603.4102\n",
            "Epoch 484/500\n",
            "479/479 - 1s - loss: 3221767424.0000 - mae: 39186.1367 - val_loss: 6873334272.0000 - val_mae: 63677.2969\n",
            "Epoch 485/500\n",
            "479/479 - 1s - loss: 3218652416.0000 - mae: 39137.0273 - val_loss: 6786260992.0000 - val_mae: 63393.0977\n",
            "Epoch 486/500\n",
            "479/479 - 1s - loss: 3218508288.0000 - mae: 39184.8633 - val_loss: 6832203776.0000 - val_mae: 63487.5156\n",
            "Epoch 487/500\n",
            "479/479 - 1s - loss: 3217321984.0000 - mae: 39146.2500 - val_loss: 6850982912.0000 - val_mae: 63541.9336\n",
            "Epoch 488/500\n",
            "479/479 - 1s - loss: 3215323136.0000 - mae: 39133.9961 - val_loss: 6815876608.0000 - val_mae: 63453.8359\n",
            "Epoch 489/500\n",
            "479/479 - 1s - loss: 3213653504.0000 - mae: 39138.9844 - val_loss: 6836143616.0000 - val_mae: 63552.5508\n",
            "Epoch 490/500\n",
            "479/479 - 1s - loss: 3212201984.0000 - mae: 39138.2852 - val_loss: 6830045184.0000 - val_mae: 63386.4180\n",
            "Epoch 491/500\n",
            "479/479 - 1s - loss: 3209861888.0000 - mae: 39094.0078 - val_loss: 6833060352.0000 - val_mae: 63487.5156\n",
            "Epoch 492/500\n",
            "479/479 - 1s - loss: 3208278784.0000 - mae: 39115.7578 - val_loss: 6841591296.0000 - val_mae: 63528.9609\n",
            "Epoch 493/500\n",
            "479/479 - 1s - loss: 3207153152.0000 - mae: 39052.4609 - val_loss: 6791883264.0000 - val_mae: 63491.7070\n",
            "Epoch 494/500\n",
            "479/479 - 1s - loss: 3206718208.0000 - mae: 39145.0469 - val_loss: 6832012288.0000 - val_mae: 63418.4102\n",
            "Epoch 495/500\n",
            "479/479 - 1s - loss: 3204577280.0000 - mae: 39058.2461 - val_loss: 6801939968.0000 - val_mae: 63400.7148\n",
            "Epoch 496/500\n",
            "479/479 - 1s - loss: 3202661888.0000 - mae: 39041.2734 - val_loss: 6810019840.0000 - val_mae: 63392.5703\n",
            "Epoch 497/500\n",
            "479/479 - 1s - loss: 3201009664.0000 - mae: 39040.3359 - val_loss: 6778737152.0000 - val_mae: 63163.2969\n",
            "Epoch 498/500\n",
            "479/479 - 1s - loss: 3200715264.0000 - mae: 39080.8164 - val_loss: 6790291968.0000 - val_mae: 63242.7148\n",
            "Epoch 499/500\n",
            "479/479 - 1s - loss: 3197906944.0000 - mae: 39004.2266 - val_loss: 6783183360.0000 - val_mae: 63316.3945\n",
            "Epoch 500/500\n",
            "479/479 - 1s - loss: 3196285184.0000 - mae: 39058.8008 - val_loss: 6823280128.0000 - val_mae: 63395.2148\n"
          ],
          "name": "stdout"
        }
      ]
    },
    {
      "cell_type": "markdown",
      "metadata": {
        "id": "m_6XDRknyO8Q"
      },
      "source": [
        "## Визуализация качества обучения"
      ]
    },
    {
      "cell_type": "code",
      "metadata": {
        "id": "k-VXHvPjySTw",
        "outputId": "3e9b4468-6fae-475b-aafd-aad5bfa029e2",
        "colab": {
          "base_uri": "https://localhost:8080/",
          "height": 283
        }
      },
      "source": [
        "plt.plot(history.history['mae'], \n",
        "         label='Средняя абсолютная ошибка на обучающем наборе')\n",
        "plt.plot(history.history['val_mae'], \n",
        "         label='Средняя абсолютная ошибка на проверочном наборе')\n",
        "plt.xlabel('Эпоха обучения')\n",
        "plt.ylabel('Средняя абсолютная ошибка')\n",
        "plt.legend()\n",
        "plt.show()"
      ],
      "execution_count": null,
      "outputs": [
        {
          "output_type": "display_data",
          "data": {
            "image/png": "[encoded data removed]",
            "text/plain": [
              "<Figure size 432x288 with 1 Axes>"
            ]
          },
          "metadata": {
            "tags": [],
            "needs_background": "light"
          }
        }
      ]
    },
    {
      "cell_type": "markdown",
      "metadata": {
        "id": "s4kt3k8sxNq6"
      },
      "source": [
        "## Проверяем работу модели на тестовом наборе данных"
      ]
    },
    {
      "cell_type": "code",
      "metadata": {
        "id": "W4zh-jfuxUJo",
        "outputId": "5b76c0dd-a451-4fe7-956d-1632994606e8",
        "colab": {
          "base_uri": "https://localhost:8080/",
          "height": 34
        }
      },
      "source": [
        "scores = model.evaluate(x_test, y_test, verbose=1)"
      ],
      "execution_count": null,
      "outputs": [
        {
          "output_type": "stream",
          "text": [
            "94/94 [==============================] - 0s 828us/step - loss: 3655154176.0000 - mae: 41728.6523\n"
          ],
          "name": "stdout"
        }
      ]
    },
    {
      "cell_type": "code",
      "metadata": {
        "id": "EhAMQvdDx_pA",
        "outputId": "1dbf4407-9027-43a7-95c2-cc17741bf171",
        "colab": {
          "base_uri": "https://localhost:8080/",
          "height": 34
        }
      },
      "source": [
        "print(\"Средняя абсолютная ошибка на тестовых данных:\", round(scores[1], 4))"
      ],
      "execution_count": null,
      "outputs": [
        {
          "output_type": "stream",
          "text": [
            "Средняя абсолютная ошибка на тестовых данных: 41728.6523\n"
          ],
          "name": "stdout"
        }
      ]
    },
    {
      "cell_type": "markdown",
      "metadata": {
        "id": "UDHMw_dEH7_0"
      },
      "source": [
        "## Используем модель для предсказаний"
      ]
    },
    {
      "cell_type": "markdown",
      "metadata": {
        "id": "pHOIK7qaOns1"
      },
      "source": [
        "**Выполняем предсказание для тестовой выборки**"
      ]
    },
    {
      "cell_type": "code",
      "metadata": {
        "id": "5LYrptorOjPe"
      },
      "source": [
        "pred = model.predict(x_test).flatten()"
      ],
      "execution_count": null,
      "outputs": []
    },
    {
      "cell_type": "code",
      "metadata": {
        "id": "_D55LA1i7E4J",
        "outputId": "3798ec88-dd67-4bbe-d052-8426e78e3cb2",
        "colab": {
          "base_uri": "https://localhost:8080/",
          "height": 34
        }
      },
      "source": [
        "print(pred)"
      ],
      "execution_count": null,
      "outputs": [
        {
          "output_type": "stream",
          "text": [
            "[381243.7  203283.61 276867.38 ...  94460.89 119167.45 504349.12]\n"
          ],
          "name": "stdout"
        }
      ]
    },
    {
      "cell_type": "markdown",
      "metadata": {
        "id": "TTw_JA5TOiYF"
      },
      "source": [
        "**Печатаем примеры результатов**"
      ]
    },
    {
      "cell_type": "code",
      "metadata": {
        "id": "L5KdJducOuwt",
        "outputId": "46920671-f403-48cd-a3f3-0d1d4b1dbf3a",
        "colab": {
          "base_uri": "https://localhost:8080/",
          "height": 34
        }
      },
      "source": [
        "test_index=0\n",
        "print(\"Предсказанная стоимость:\", pred[test_index], \", правильная стоимость:\", y_test[test_index])"
      ],
      "execution_count": null,
      "outputs": [
        {
          "output_type": "stream",
          "text": [
            "Предсказанная стоимость: 381243.7 , правильная стоимость: 344700.0\n"
          ],
          "name": "stdout"
        }
      ]
    },
    {
      "cell_type": "markdown",
      "metadata": {
        "id": "JsOHd3RvChv0"
      },
      "source": [
        "## Визуализируем результаты предсказаний"
      ]
    },
    {
      "cell_type": "markdown",
      "metadata": {
        "id": "bf-IZgHpDQs0"
      },
      "source": [
        "График предсказаний"
      ]
    },
    {
      "cell_type": "code",
      "metadata": {
        "id": "eW4Jyk56CT4A"
      },
      "source": [
        "plt.scatter(y_test, pred)\n",
        "plt.xlabel('Правильные значение, $1K')\n",
        "plt.ylabel('Предсказания, $1K')\n",
        "plt.axis('equal')\n",
        "plt.xlim(plt.xlim())\n",
        "plt.ylim(plt.ylim())\n",
        "plt.plot([-100, 100], [-100, 100])\n",
        "plt.show()"
      ],
      "execution_count": null,
      "outputs": []
    },
    {
      "cell_type": "markdown",
      "metadata": {
        "id": "IjAxrbvLDsI-"
      },
      "source": [
        "Гистограмма ошибок"
      ]
    },
    {
      "cell_type": "code",
      "metadata": {
        "id": "K4SHKjI_DuaE"
      },
      "source": [
        "error = pred - y_test\n",
        "plt.hist(error, bins = 50)\n",
        "plt.xlabel(\"Значение ошибки, $1K\")\n",
        "plt.ylabel(\"Количество\")\n",
        "plt.show()"
      ],
      "execution_count": null,
      "outputs": []
    }
  ]
}